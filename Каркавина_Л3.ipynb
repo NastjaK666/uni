{
  "nbformat": 4,
  "nbformat_minor": 0,
  "metadata": {
    "colab": {
      "name": "Каркавина_Л3_1.ipynb",
      "provenance": []
    },
    "kernelspec": {
      "name": "python3",
      "display_name": "Python 3"
    }
  },
  "cells": [
    {
      "cell_type": "code",
      "metadata": {
        "id": "if2AWy9a4fBz",
        "colab_type": "code",
        "colab": {}
      },
      "source": [
        "import pandas as pd\n",
        "from sklearn.impute import SimpleImputer\n",
        "from sklearn.impute import MissingIndicator\n",
        "from sklearn.preprocessing import LabelEncoder, OneHotEncoder\n",
        "from sklearn.preprocessing import MinMaxScaler, StandardScaler, Normalizer\n",
        "import numpy as np\n",
        "import matplotlib.pyplot as plt"
      ],
      "execution_count": 0,
      "outputs": []
    },
    {
      "cell_type": "code",
      "metadata": {
        "id": "FpHEWAMu4isG",
        "colab_type": "code",
        "colab": {}
      },
      "source": [
        "url='https://raw.githubusercontent.com/NastjaK666/uni/master/hate_crimes.csv'\n",
        "data = pd.read_csv(url)"
      ],
      "execution_count": 0,
      "outputs": []
    },
    {
      "cell_type": "code",
      "metadata": {
        "id": "M-rpIBNz4iqz",
        "colab_type": "code",
        "outputId": "f002df67-7215-4299-c1f1-70d8175ae0ae",
        "colab": {
          "base_uri": "https://localhost:8080/",
          "height": 217
        }
      },
      "source": [
        "data.head()"
      ],
      "execution_count": 5,
      "outputs": [
        {
          "output_type": "execute_result",
          "data": {
            "text/html": [
              "<div>\n",
              "<style scoped>\n",
              "    .dataframe tbody tr th:only-of-type {\n",
              "        vertical-align: middle;\n",
              "    }\n",
              "\n",
              "    .dataframe tbody tr th {\n",
              "        vertical-align: top;\n",
              "    }\n",
              "\n",
              "    .dataframe thead th {\n",
              "        text-align: right;\n",
              "    }\n",
              "</style>\n",
              "<table border=\"1\" class=\"dataframe\">\n",
              "  <thead>\n",
              "    <tr style=\"text-align: right;\">\n",
              "      <th></th>\n",
              "      <th>state</th>\n",
              "      <th>median_household_income</th>\n",
              "      <th>share_unemployed_seasonal</th>\n",
              "      <th>share_population_in_metro_areas</th>\n",
              "      <th>share_population_with_high_school_degree</th>\n",
              "      <th>share_non_citizen</th>\n",
              "      <th>share_white_poverty</th>\n",
              "      <th>gini_index</th>\n",
              "      <th>share_non_white</th>\n",
              "      <th>share_voters_voted_trump</th>\n",
              "      <th>hate_crimes_per_100k_splc</th>\n",
              "      <th>avg_hatecrimes_per_100k_fbi</th>\n",
              "    </tr>\n",
              "  </thead>\n",
              "  <tbody>\n",
              "    <tr>\n",
              "      <th>0</th>\n",
              "      <td>Alabama</td>\n",
              "      <td>42278</td>\n",
              "      <td>0.060</td>\n",
              "      <td>0.64</td>\n",
              "      <td>0.821</td>\n",
              "      <td>0.02</td>\n",
              "      <td>0.12</td>\n",
              "      <td>0.472</td>\n",
              "      <td>0.35</td>\n",
              "      <td>0.63</td>\n",
              "      <td>0.125839</td>\n",
              "      <td>1.806410</td>\n",
              "    </tr>\n",
              "    <tr>\n",
              "      <th>1</th>\n",
              "      <td>Alaska</td>\n",
              "      <td>67629</td>\n",
              "      <td>0.064</td>\n",
              "      <td>0.63</td>\n",
              "      <td>0.914</td>\n",
              "      <td>0.04</td>\n",
              "      <td>0.06</td>\n",
              "      <td>0.422</td>\n",
              "      <td>0.42</td>\n",
              "      <td>0.53</td>\n",
              "      <td>0.143740</td>\n",
              "      <td>1.656700</td>\n",
              "    </tr>\n",
              "    <tr>\n",
              "      <th>2</th>\n",
              "      <td>Arizona</td>\n",
              "      <td>49254</td>\n",
              "      <td>0.063</td>\n",
              "      <td>0.90</td>\n",
              "      <td>0.842</td>\n",
              "      <td>0.10</td>\n",
              "      <td>0.09</td>\n",
              "      <td>0.455</td>\n",
              "      <td>0.49</td>\n",
              "      <td>0.50</td>\n",
              "      <td>0.225320</td>\n",
              "      <td>3.413928</td>\n",
              "    </tr>\n",
              "    <tr>\n",
              "      <th>3</th>\n",
              "      <td>Arkansas</td>\n",
              "      <td>44922</td>\n",
              "      <td>0.052</td>\n",
              "      <td>0.69</td>\n",
              "      <td>0.824</td>\n",
              "      <td>0.04</td>\n",
              "      <td>0.12</td>\n",
              "      <td>0.458</td>\n",
              "      <td>0.26</td>\n",
              "      <td>0.60</td>\n",
              "      <td>0.069061</td>\n",
              "      <td>0.869209</td>\n",
              "    </tr>\n",
              "    <tr>\n",
              "      <th>4</th>\n",
              "      <td>California</td>\n",
              "      <td>60487</td>\n",
              "      <td>0.059</td>\n",
              "      <td>0.97</td>\n",
              "      <td>0.806</td>\n",
              "      <td>0.13</td>\n",
              "      <td>0.09</td>\n",
              "      <td>0.471</td>\n",
              "      <td>0.61</td>\n",
              "      <td>0.33</td>\n",
              "      <td>0.255805</td>\n",
              "      <td>2.397986</td>\n",
              "    </tr>\n",
              "  </tbody>\n",
              "</table>\n",
              "</div>"
            ],
            "text/plain": [
              "        state  ...  avg_hatecrimes_per_100k_fbi\n",
              "0     Alabama  ...                     1.806410\n",
              "1      Alaska  ...                     1.656700\n",
              "2     Arizona  ...                     3.413928\n",
              "3    Arkansas  ...                     0.869209\n",
              "4  California  ...                     2.397986\n",
              "\n",
              "[5 rows x 12 columns]"
            ]
          },
          "metadata": {
            "tags": []
          },
          "execution_count": 5
        }
      ]
    },
    {
      "cell_type": "code",
      "metadata": {
        "id": "7I9KP9EJ5CGk",
        "colab_type": "code",
        "outputId": "d2adde2d-76fe-472a-dcbd-3ef2ed43fe59",
        "colab": {
          "base_uri": "https://localhost:8080/",
          "height": 34
        }
      },
      "source": [
        "data.shape"
      ],
      "execution_count": 6,
      "outputs": [
        {
          "output_type": "execute_result",
          "data": {
            "text/plain": [
              "(51, 12)"
            ]
          },
          "metadata": {
            "tags": []
          },
          "execution_count": 6
        }
      ]
    },
    {
      "cell_type": "code",
      "metadata": {
        "id": "f2Iirtfk5CFS",
        "colab_type": "code",
        "outputId": "d7fe2652-81ec-4022-ce2d-2a26575f2660",
        "colab": {
          "base_uri": "https://localhost:8080/",
          "height": 247
        }
      },
      "source": [
        "data.dtypes"
      ],
      "execution_count": 7,
      "outputs": [
        {
          "output_type": "execute_result",
          "data": {
            "text/plain": [
              "state                                        object\n",
              "median_household_income                       int64\n",
              "share_unemployed_seasonal                   float64\n",
              "share_population_in_metro_areas             float64\n",
              "share_population_with_high_school_degree    float64\n",
              "share_non_citizen                           float64\n",
              "share_white_poverty                         float64\n",
              "gini_index                                  float64\n",
              "share_non_white                             float64\n",
              "share_voters_voted_trump                    float64\n",
              "hate_crimes_per_100k_splc                   float64\n",
              "avg_hatecrimes_per_100k_fbi                 float64\n",
              "dtype: object"
            ]
          },
          "metadata": {
            "tags": []
          },
          "execution_count": 7
        }
      ]
    },
    {
      "cell_type": "code",
      "metadata": {
        "id": "gJS_bpGp5JhL",
        "colab_type": "code",
        "outputId": "603e37eb-09f8-4129-eca6-7274bde6a300",
        "colab": {
          "base_uri": "https://localhost:8080/",
          "height": 247
        }
      },
      "source": [
        "data.isnull().sum()"
      ],
      "execution_count": 8,
      "outputs": [
        {
          "output_type": "execute_result",
          "data": {
            "text/plain": [
              "state                                       0\n",
              "median_household_income                     0\n",
              "share_unemployed_seasonal                   0\n",
              "share_population_in_metro_areas             0\n",
              "share_population_with_high_school_degree    0\n",
              "share_non_citizen                           3\n",
              "share_white_poverty                         0\n",
              "gini_index                                  0\n",
              "share_non_white                             0\n",
              "share_voters_voted_trump                    0\n",
              "hate_crimes_per_100k_splc                   4\n",
              "avg_hatecrimes_per_100k_fbi                 1\n",
              "dtype: int64"
            ]
          },
          "metadata": {
            "tags": []
          },
          "execution_count": 8
        }
      ]
    },
    {
      "cell_type": "code",
      "metadata": {
        "id": "dPZpbTZU5Uw9",
        "colab_type": "code",
        "outputId": "faadaa57-35bc-4e7c-a192-935f57906f34",
        "colab": {
          "base_uri": "https://localhost:8080/",
          "height": 70
        }
      },
      "source": [
        "EmptyColumn = []\n",
        "for column in data.columns:\n",
        "    # Количество пустых значений \n",
        "    NullCount = data[column].isnull().sum()\n",
        "    if NullCount > 0:\n",
        "        EmptyColumn.append(column)\n",
        "        print('Колонка {0}. Тип данных {1}. Количество пустых значений {2}.'.format(column, str(data[column].dtype), NullCount))"
      ],
      "execution_count": 9,
      "outputs": [
        {
          "output_type": "stream",
          "text": [
            "Колонка share_non_citizen. Тип данных float64. Количество пустых значений 3.\n",
            "Колонка hate_crimes_per_100k_splc. Тип данных float64. Количество пустых значений 4.\n",
            "Колонка avg_hatecrimes_per_100k_fbi. Тип данных float64. Количество пустых значений 1.\n"
          ],
          "name": "stdout"
        }
      ]
    },
    {
      "cell_type": "code",
      "metadata": {
        "id": "qklajV5F5Uv8",
        "colab_type": "code",
        "outputId": "cbc68e1e-2054-41ac-8655-70d28e7a0208",
        "colab": {
          "base_uri": "https://localhost:8080/",
          "height": 70
        }
      },
      "source": [
        "# Обработка методом удаления строк с пустыми значениями:\n",
        "data1 = data.dropna(axis=0, how='any')\n",
        "(data.shape, data1.shape)\n",
        "print('Число записей до удаления:', data.shape[0])\n",
        "print('Число записей после удаления:', data1.shape[0])\n",
        "print(\"Процент потерь данных: {0} %\".format(round((data.shape[0]-data1.shape[0])/data.shape[0]*100, 4)))"
      ],
      "execution_count": 10,
      "outputs": [
        {
          "output_type": "stream",
          "text": [
            "Число записей до удаления: 51\n",
            "Число записей после удаления: 45\n",
            "Процент потерь данных: 11.7647 %\n"
          ],
          "name": "stdout"
        }
      ]
    },
    {
      "cell_type": "code",
      "metadata": {
        "id": "5Fi78vfH5f5Z",
        "colab_type": "code",
        "outputId": "7585f4ed-4253-4632-8ae4-773708541fdd",
        "colab": {
          "base_uri": "https://localhost:8080/",
          "height": 70
        }
      },
      "source": [
        "# Обработка методом удаления столбцов с пустыми значениями:\n",
        "data2 = data.dropna(axis=1, how='any')\n",
        "print('Число колонок до удаления:', data.shape[1])\n",
        "print('Число колонок после удаления:', data2.shape[1])\n",
        "print(\"Процент потерь данных: {0} %\".format(round((data.shape[1]-data2.shape[1])/data.shape[1]*100, 4)))"
      ],
      "execution_count": 11,
      "outputs": [
        {
          "output_type": "stream",
          "text": [
            "Число колонок до удаления: 12\n",
            "Число колонок после удаления: 9\n",
            "Процент потерь данных: 25.0 %\n"
          ],
          "name": "stdout"
        }
      ]
    },
    {
      "cell_type": "code",
      "metadata": {
        "id": "uRkvtzsF5f4c",
        "colab_type": "code",
        "colab": {}
      },
      "source": [
        "# Обработка методом заполнения строкой:\n",
        "firstTemp = data[['share_non_citizen']]\n",
        "secondTemp = data[['hate_crimes_per_100k_splc']]\n",
        "thirdTemp = data[['avg_hatecrimes_per_100k_fbi']]"
      ],
      "execution_count": 0,
      "outputs": []
    },
    {
      "cell_type": "code",
      "metadata": {
        "id": "Rl0PE7VB-xxQ",
        "colab_type": "code",
        "colab": {}
      },
      "source": [
        "# Внедрение значений (нулей) - импьютация\n",
        "\n",
        "Imputation = SimpleImputer(missing_values = np.nan, strategy = 'constant', fill_value = 0.00) "
      ],
      "execution_count": 0,
      "outputs": []
    },
    {
      "cell_type": "code",
      "metadata": {
        "id": "hSfVmqGm-zT9",
        "colab_type": "code",
        "outputId": "8ce3a902-4533-4f54-decb-1f91af5b3b99",
        "colab": {
          "base_uri": "https://localhost:8080/",
          "height": 52
        }
      },
      "source": [
        "sncImp = Imputation.fit_transform(firstTemp)\n",
        "np.unique(sncImp)"
      ],
      "execution_count": 14,
      "outputs": [
        {
          "output_type": "execute_result",
          "data": {
            "text/plain": [
              "array([0.  , 0.01, 0.02, 0.03, 0.04, 0.05, 0.06, 0.07, 0.08, 0.09, 0.1 ,\n",
              "       0.11, 0.13])"
            ]
          },
          "metadata": {
            "tags": []
          },
          "execution_count": 14
        }
      ]
    },
    {
      "cell_type": "code",
      "metadata": {
        "id": "JuyIroIk-zS5",
        "colab_type": "code",
        "outputId": "e30220b4-dd89-4ae7-a829-c79edb2a94ef",
        "colab": {
          "base_uri": "https://localhost:8080/",
          "height": 194
        }
      },
      "source": [
        "hcpImp = Imputation.fit_transform(secondTemp)\n",
        "np.unique(hcpImp)"
      ],
      "execution_count": 15,
      "outputs": [
        {
          "output_type": "execute_result",
          "data": {
            "text/plain": [
              "array([0.        , 0.0674468 , 0.06906077, 0.07830591, 0.09540164,\n",
              "       0.10515247, 0.10973335, 0.12042027, 0.12420817, 0.12583893,\n",
              "       0.1336291 , 0.13654673, 0.14167316, 0.14374012, 0.1515496 ,\n",
              "       0.15948963, 0.18452351, 0.18752122, 0.19071396, 0.19534455,\n",
              "       0.19993848, 0.20989442, 0.21358394, 0.22531995, 0.22619711,\n",
              "       0.24400659, 0.24700888, 0.25580536, 0.28510109, 0.29481132,\n",
              "       0.32275417, 0.32414911, 0.32439697, 0.32867707, 0.33539227,\n",
              "       0.35062045, 0.3632489 , 0.37043897, 0.3905233 , 0.40377937,\n",
              "       0.45442742, 0.49549103, 0.61557402, 0.62747993, 0.63081059,\n",
              "       0.67748765, 0.83284961, 1.52230172])"
            ]
          },
          "metadata": {
            "tags": []
          },
          "execution_count": 15
        }
      ]
    },
    {
      "cell_type": "code",
      "metadata": {
        "id": "TZMm0k8ZGNsb",
        "colab_type": "code",
        "outputId": "38e0dfa8-1008-4aed-ba99-6cf7884337da",
        "colab": {
          "base_uri": "https://localhost:8080/",
          "height": 212
        }
      },
      "source": [
        "avgImp = Imputation.fit_transform(thirdTemp)\n",
        "np.unique(avgImp)"
      ],
      "execution_count": 16,
      "outputs": [
        {
          "output_type": "execute_result",
          "data": {
            "text/plain": [
              "array([ 0.        ,  0.26694076,  0.41201182,  0.43092759,  0.56139556,\n",
              "        0.62274599,  0.69807034,  0.75276831,  0.86920887,  1.0440158 ,\n",
              "        1.08167215,  1.12194465,  1.2626798 ,  1.28257183,  1.32483954,\n",
              "        1.34116955,  1.46997956,  1.65670011,  1.72475458,  1.75735657,\n",
              "        1.80641049,  1.88643518,  1.89133053,  1.90308139,  1.90895499,\n",
              "        1.93708283,  2.03705363,  2.10598858,  2.11399015,  2.14398667,\n",
              "        2.38406504,  2.3979859 ,  2.62661092,  2.68624842,  2.80468876,\n",
              "        2.95495938,  3.10216428,  3.13605115,  3.20044227,  3.2404204 ,\n",
              "        3.30173713,  3.39488611,  3.41392799,  3.61241182,  3.77270147,\n",
              "        3.8177403 ,  4.20788962,  4.41320259,  4.74106988,  4.80189934,\n",
              "       10.95347971])"
            ]
          },
          "metadata": {
            "tags": []
          },
          "execution_count": 16
        }
      ]
    },
    {
      "cell_type": "code",
      "metadata": {
        "id": "JSY0XyoKPhc-",
        "colab_type": "code",
        "colab": {
          "base_uri": "https://localhost:8080/",
          "height": 194
        },
        "outputId": "6ef6935b-847b-477a-be6a-7e861e8ad15a"
      },
      "source": [
        "# Преобразование категориальных данных в числовые\n",
        "sncEnc = pd.DataFrame({'share_non_citizen':sncImp.T[0]})\n",
        "LaEnc = LabelEncoder()\n",
        "sncLaEnc = LaEnc.fit_transform(sncEnc['share_non_citizen'])\n",
        "print('sncEnc unique values:\\n{}\\n'.format(sncEnc['share_non_citizen'].unique()))\n",
        "print('sncLaEnc unique values:\\n{}'.format(np.unique(sncLaEnc)))\n",
        "LaEnc.inverse_transform(sncLaEnc)"
      ],
      "execution_count": 19,
      "outputs": [
        {
          "output_type": "stream",
          "text": [
            "sncEnc unique values:\n",
            "[0.02 0.04 0.1  0.13 0.06 0.05 0.11 0.09 0.08 0.07 0.03 0.   0.01]\n",
            "\n",
            "sncLaEnc unique values:\n",
            "[ 0  1  2  3  4  5  6  7  8  9 10 11 12]\n"
          ],
          "name": "stdout"
        },
        {
          "output_type": "execute_result",
          "data": {
            "text/plain": [
              "array([0.02, 0.04, 0.1 , 0.04, 0.13, 0.06, 0.06, 0.05, 0.11, 0.09, 0.08,\n",
              "       0.08, 0.04, 0.07, 0.03, 0.03, 0.04, 0.03, 0.02, 0.  , 0.08, 0.09,\n",
              "       0.04, 0.05, 0.  , 0.02, 0.01, 0.05, 0.1 , 0.03, 0.11, 0.06, 0.1 ,\n",
              "       0.05, 0.03, 0.03, 0.04, 0.07, 0.03, 0.08, 0.03, 0.  , 0.04, 0.11,\n",
              "       0.04, 0.01, 0.06, 0.08, 0.01, 0.03, 0.02])"
            ]
          },
          "metadata": {
            "tags": []
          },
          "execution_count": 19
        }
      ]
    },
    {
      "cell_type": "code",
      "metadata": {
        "id": "NForMg1IQn_N",
        "colab_type": "code",
        "colab": {}
      },
      "source": [
        "OHEnc = OneHotEncoder()\n",
        "WorkClassOHEnc = OHEnc.fit_transform(WorkClassEnc[['workclass']])\n",
        "print('Число колонок в WorkClassEnc:\\n{}\\n'.format(WorkClassEnc.shape[1]))\n",
        "print('Число колонок в WorkClassHOEnc:\\n{}\\n'.format(WorkClassOHEnc.shape[1]))"
      ],
      "execution_count": 0,
      "outputs": []
    },
    {
      "cell_type": "code",
      "metadata": {
        "id": "UaihL_D0Qrwx",
        "colab_type": "code",
        "colab": {
          "base_uri": "https://localhost:8080/",
          "height": 214
        },
        "outputId": "c3f46c30-1076-4fe0-95df-8de440025dd0"
      },
      "source": [
        "OHEnc = OneHotEncoder()\n",
        "sncOHEnc = OHEnc.fit_transform(sncEnc[['share_non_citizen']])\n",
        "print('Columns in sncEnc:\\n{}\\n'.format(sncEnc.shape[1]))\n",
        "print('Columns in sncOHEnc:\\n{}\\n'.format(sncOHEnc.shape[1]))"
      ],
      "execution_count": 21,
      "outputs": [
        {
          "output_type": "stream",
          "text": [
            "Columns in sncEnc:\n",
            "1\n",
            "\n",
            "Columns in sncOHEnc:\n",
            "1\n",
            "\n"
          ],
          "name": "stdout"
        },
        {
          "output_type": "stream",
          "text": [
            "/usr/local/lib/python3.6/dist-packages/sklearn/preprocessing/_encoders.py:415: FutureWarning: The handling of integer data will change in version 0.22. Currently, the categories are determined based on the range [0, max(values)], while in the future they will be determined based on the unique values.\n",
            "If you want the future behaviour and silence this warning, you can specify \"categories='auto'\".\n",
            "In case you used a LabelEncoder before this OneHotEncoder to convert the categories to integers, then you can now use the OneHotEncoder directly.\n",
            "  warnings.warn(msg, FutureWarning)\n"
          ],
          "name": "stderr"
        }
      ]
    },
    {
      "cell_type": "code",
      "metadata": {
        "id": "cct3oHbAR9PJ",
        "colab_type": "code",
        "colab": {
          "base_uri": "https://localhost:8080/",
          "height": 194
        },
        "outputId": "a4400d7a-15a9-497e-e114-1e05e086df16"
      },
      "source": [
        "sncOHEnc.todense()[0:10]"
      ],
      "execution_count": 22,
      "outputs": [
        {
          "output_type": "execute_result",
          "data": {
            "text/plain": [
              "matrix([[1.],\n",
              "        [1.],\n",
              "        [1.],\n",
              "        [1.],\n",
              "        [1.],\n",
              "        [1.],\n",
              "        [1.],\n",
              "        [1.],\n",
              "        [1.],\n",
              "        [1.]])"
            ]
          },
          "metadata": {
            "tags": []
          },
          "execution_count": 22
        }
      ]
    },
    {
      "cell_type": "code",
      "metadata": {
        "id": "lOKNM8tXSJf9",
        "colab_type": "code",
        "colab": {
          "base_uri": "https://localhost:8080/",
          "height": 347
        },
        "outputId": "c62becd5-050a-4199-9ad2-155ba54210a7"
      },
      "source": [
        "sncEnc.head(10)"
      ],
      "execution_count": 23,
      "outputs": [
        {
          "output_type": "execute_result",
          "data": {
            "text/html": [
              "<div>\n",
              "<style scoped>\n",
              "    .dataframe tbody tr th:only-of-type {\n",
              "        vertical-align: middle;\n",
              "    }\n",
              "\n",
              "    .dataframe tbody tr th {\n",
              "        vertical-align: top;\n",
              "    }\n",
              "\n",
              "    .dataframe thead th {\n",
              "        text-align: right;\n",
              "    }\n",
              "</style>\n",
              "<table border=\"1\" class=\"dataframe\">\n",
              "  <thead>\n",
              "    <tr style=\"text-align: right;\">\n",
              "      <th></th>\n",
              "      <th>share_non_citizen</th>\n",
              "    </tr>\n",
              "  </thead>\n",
              "  <tbody>\n",
              "    <tr>\n",
              "      <th>0</th>\n",
              "      <td>0.02</td>\n",
              "    </tr>\n",
              "    <tr>\n",
              "      <th>1</th>\n",
              "      <td>0.04</td>\n",
              "    </tr>\n",
              "    <tr>\n",
              "      <th>2</th>\n",
              "      <td>0.10</td>\n",
              "    </tr>\n",
              "    <tr>\n",
              "      <th>3</th>\n",
              "      <td>0.04</td>\n",
              "    </tr>\n",
              "    <tr>\n",
              "      <th>4</th>\n",
              "      <td>0.13</td>\n",
              "    </tr>\n",
              "    <tr>\n",
              "      <th>5</th>\n",
              "      <td>0.06</td>\n",
              "    </tr>\n",
              "    <tr>\n",
              "      <th>6</th>\n",
              "      <td>0.06</td>\n",
              "    </tr>\n",
              "    <tr>\n",
              "      <th>7</th>\n",
              "      <td>0.05</td>\n",
              "    </tr>\n",
              "    <tr>\n",
              "      <th>8</th>\n",
              "      <td>0.11</td>\n",
              "    </tr>\n",
              "    <tr>\n",
              "      <th>9</th>\n",
              "      <td>0.09</td>\n",
              "    </tr>\n",
              "  </tbody>\n",
              "</table>\n",
              "</div>"
            ],
            "text/plain": [
              "   share_non_citizen\n",
              "0               0.02\n",
              "1               0.04\n",
              "2               0.10\n",
              "3               0.04\n",
              "4               0.13\n",
              "5               0.06\n",
              "6               0.06\n",
              "7               0.05\n",
              "8               0.11\n",
              "9               0.09"
            ]
          },
          "metadata": {
            "tags": []
          },
          "execution_count": 23
        }
      ]
    },
    {
      "cell_type": "code",
      "metadata": {
        "id": "ZUl6JbaHSWCA",
        "colab_type": "code",
        "colab": {}
      },
      "source": [
        "#3.1. MinMax масштабирование\n",
        "\n",
        "sc1 = MinMaxScaler()\n",
        "sc1_data = sc1.fit_transform(data[['median_household_income']])"
      ],
      "execution_count": 0,
      "outputs": []
    },
    {
      "cell_type": "code",
      "metadata": {
        "id": "bQ9r-uWhTlK9",
        "colab_type": "code",
        "colab": {
          "base_uri": "https://localhost:8080/",
          "height": 268
        },
        "outputId": "b75a1290-adb5-4327-ca3f-5693b0a3b192"
      },
      "source": [
        "plt.hist(data['median_household_income'], 50)\n",
        "plt.show()"
      ],
      "execution_count": 28,
      "outputs": [
        {
          "output_type": "display_data",
          "data": {
            "image/png": "[encoded data removed]",
            "text/plain": [
              "<Figure size 432x288 with 1 Axes>"
            ]
          },
          "metadata": {
            "tags": []
          }
        }
      ]
    },
    {
      "cell_type": "code",
      "metadata": {
        "id": "4JL4Z3GrTdll",
        "colab_type": "code",
        "colab": {
          "base_uri": "https://localhost:8080/",
          "height": 268
        },
        "outputId": "52ac6631-88b8-45ee-8b5c-7d5690470d80"
      },
      "source": [
        "plt.hist(sc1_data, 50)\n",
        "plt.show()"
      ],
      "execution_count": 29,
      "outputs": [
        {
          "output_type": "display_data",
          "data": {
            "image/png": "[encoded data removed]",
            "text/plain": [
              "<Figure size 432x288 with 1 Axes>"
            ]
          },
          "metadata": {
            "tags": []
          }
        }
      ]
    },
    {
      "cell_type": "code",
      "metadata": {
        "id": "RT2l4drSTw8K",
        "colab_type": "code",
        "colab": {}
      },
      "source": [
        "#Масштабирование данных на основе Z-оценки - StandardScaler\n",
        "\n",
        "sc2 = StandardScaler()\n",
        "sc2_data = sc2.fit_transform(data[['median_household_income']])"
      ],
      "execution_count": 0,
      "outputs": []
    },
    {
      "cell_type": "code",
      "metadata": {
        "id": "u1XoOKQVT4iz",
        "colab_type": "code",
        "colab": {
          "base_uri": "https://localhost:8080/",
          "height": 268
        },
        "outputId": "0316bc62-d843-4416-ff88-44058afa4b79"
      },
      "source": [
        "plt.hist(sc2_data, 50)\n",
        "plt.show()"
      ],
      "execution_count": 31,
      "outputs": [
        {
          "output_type": "display_data",
          "data": {
            "image/png": "[encoded data removed]",
            "text/plain": [
              "<Figure size 432x288 with 1 Axes>"
            ]
          },
          "metadata": {
            "tags": []
          }
        }
      ]
    },
    {
      "cell_type": "code",
      "metadata": {
        "id": "jxMLL3NEUN5S",
        "colab_type": "code",
        "colab": {}
      },
      "source": [
        "# Нормализация данных\n",
        "sc3 = Normalizer()\n",
        "sc3_data = sc3.fit_transform(data[['median_household_income']])"
      ],
      "execution_count": 0,
      "outputs": []
    },
    {
      "cell_type": "code",
      "metadata": {
        "id": "Nv3jU_iXUaab",
        "colab_type": "code",
        "colab": {
          "base_uri": "https://localhost:8080/",
          "height": 268
        },
        "outputId": "77b9bba2-fd71-496f-c5c8-81f7149cc3e6"
      },
      "source": [
        "plt.hist(sc3_data, 50)\n",
        "plt.show()"
      ],
      "execution_count": 33,
      "outputs": [
        {
          "output_type": "display_data",
          "data": {
            "image/png": "[encoded data removed]",
            "text/plain": [
              "<Figure size 432x288 with 1 Axes>"
            ]
          },
          "metadata": {
            "tags": []
          }
        }
      ]
    }
  ]
}