{
  "nbformat": 4,
  "nbformat_minor": 0,
  "metadata": {
    "colab": {
      "name": "Untitled6.ipynb",
      "provenance": [],
      "collapsed_sections": []
    },
    "kernelspec": {
      "name": "python3",
      "display_name": "Python 3"
    }
  },
  "cells": [
    {
      "cell_type": "code",
      "metadata": {
        "id": "hZDKbSXVN7Pu",
        "colab_type": "code",
        "colab": {}
      },
      "source": [
        "import pandas as pd\n",
        "from sklearn.model_selection import train_test_split\n",
        "from sklearn.linear_model import LogisticRegression\n",
        "from sklearn.svm import SVC\n",
        "from sklearn.tree import DecisionTreeClassifier\n",
        "from sklearn.metrics import confusion_matrix, classification_report, accuracy_score\n",
        "from sklearn.model_selection import cross_val_score, cross_validate, KFold, LeaveOneOut, GridSearchCV\n",
        "\n",
        "from sklearn.neighbors import KNeighborsClassifier\n",
        "from sklearn.preprocessing import LabelEncoder\n"
      ],
      "execution_count": 0,
      "outputs": []
    },
    {
      "cell_type": "code",
      "metadata": {
        "id": "f0QD5BBgN9Qp",
        "colab_type": "code",
        "colab": {
          "base_uri": "https://localhost:8080/",
          "height": 283
        },
        "outputId": "4ab772f4-22c6-42e9-84e8-3e1742770041"
      },
      "source": [
        "url = 'https://raw.githubusercontent.com/NastjaK666/uni/master/african_crises.csv'\n",
        "data = pd.read_csv(url)\n",
        "data.dtypes"
      ],
      "execution_count": 6,
      "outputs": [
        {
          "output_type": "execute_result",
          "data": {
            "text/plain": [
              "case                                 int64\n",
              "cc3                                 object\n",
              "country                             object\n",
              "year                                 int64\n",
              "systemic_crisis                      int64\n",
              "exch_usd                           float64\n",
              "domestic_debt_in_default             int64\n",
              "sovereign_external_debt_default      int64\n",
              "gdp_weighted_default               float64\n",
              "inflation_annual_cpi               float64\n",
              "independence                         int64\n",
              "currency_crises                      int64\n",
              "inflation_crises                     int64\n",
              "banking_crisis                      object\n",
              "dtype: object"
            ]
          },
          "metadata": {
            "tags": []
          },
          "execution_count": 6
        }
      ]
    },
    {
      "cell_type": "code",
      "metadata": {
        "id": "qbwKyjiTN--A",
        "colab_type": "code",
        "colab": {
          "base_uri": "https://localhost:8080/",
          "height": 283
        },
        "outputId": "2dcc132c-4179-490e-b1fa-9a88191a4ac2"
      },
      "source": [
        "data.isnull().sum()"
      ],
      "execution_count": 3,
      "outputs": [
        {
          "output_type": "execute_result",
          "data": {
            "text/plain": [
              "case                               0\n",
              "cc3                                0\n",
              "country                            0\n",
              "year                               0\n",
              "systemic_crisis                    0\n",
              "exch_usd                           0\n",
              "domestic_debt_in_default           0\n",
              "sovereign_external_debt_default    0\n",
              "gdp_weighted_default               0\n",
              "inflation_annual_cpi               0\n",
              "independence                       0\n",
              "currency_crises                    0\n",
              "inflation_crises                   0\n",
              "banking_crisis                     0\n",
              "dtype: int64"
            ]
          },
          "metadata": {
            "tags": []
          },
          "execution_count": 3
        }
      ]
    },
    {
      "cell_type": "code",
      "metadata": {
        "id": "C1t2pkqOPr0t",
        "colab_type": "code",
        "colab": {
          "base_uri": "https://localhost:8080/",
          "height": 253
        },
        "outputId": "0c679dfb-a185-4f56-ded5-c20bc90a822e"
      },
      "source": [
        "ClassCoded = data[['cc3']]  #needs to be float data type\n",
        "LaEnc = LabelEncoder()\n",
        "data[['cc3']] = pd.DataFrame(LaEnc.fit_transform(ClassCoded), columns=[['cc3']])\n",
        "data.head()"
      ],
      "execution_count": 7,
      "outputs": [
        {
          "output_type": "stream",
          "text": [
            "/usr/local/lib/python3.6/dist-packages/sklearn/preprocessing/label.py:235: DataConversionWarning: A column-vector y was passed when a 1d array was expected. Please change the shape of y to (n_samples, ), for example using ravel().\n",
            "  y = column_or_1d(y, warn=True)\n"
          ],
          "name": "stderr"
        },
        {
          "output_type": "execute_result",
          "data": {
            "text/html": [
              "<div>\n",
              "<style scoped>\n",
              "    .dataframe tbody tr th:only-of-type {\n",
              "        vertical-align: middle;\n",
              "    }\n",
              "\n",
              "    .dataframe tbody tr th {\n",
              "        vertical-align: top;\n",
              "    }\n",
              "\n",
              "    .dataframe thead th {\n",
              "        text-align: right;\n",
              "    }\n",
              "</style>\n",
              "<table border=\"1\" class=\"dataframe\">\n",
              "  <thead>\n",
              "    <tr style=\"text-align: right;\">\n",
              "      <th></th>\n",
              "      <th>case</th>\n",
              "      <th>cc3</th>\n",
              "      <th>country</th>\n",
              "      <th>year</th>\n",
              "      <th>systemic_crisis</th>\n",
              "      <th>exch_usd</th>\n",
              "      <th>domestic_debt_in_default</th>\n",
              "      <th>sovereign_external_debt_default</th>\n",
              "      <th>gdp_weighted_default</th>\n",
              "      <th>inflation_annual_cpi</th>\n",
              "      <th>independence</th>\n",
              "      <th>currency_crises</th>\n",
              "      <th>inflation_crises</th>\n",
              "      <th>banking_crisis</th>\n",
              "    </tr>\n",
              "  </thead>\n",
              "  <tbody>\n",
              "    <tr>\n",
              "      <th>0</th>\n",
              "      <td>1</td>\n",
              "      <td>3</td>\n",
              "      <td>Algeria</td>\n",
              "      <td>1870</td>\n",
              "      <td>1</td>\n",
              "      <td>0.052264</td>\n",
              "      <td>0</td>\n",
              "      <td>0</td>\n",
              "      <td>0.0</td>\n",
              "      <td>3.441456</td>\n",
              "      <td>0</td>\n",
              "      <td>0</td>\n",
              "      <td>0</td>\n",
              "      <td>crisis</td>\n",
              "    </tr>\n",
              "    <tr>\n",
              "      <th>1</th>\n",
              "      <td>1</td>\n",
              "      <td>3</td>\n",
              "      <td>Algeria</td>\n",
              "      <td>1871</td>\n",
              "      <td>0</td>\n",
              "      <td>0.052798</td>\n",
              "      <td>0</td>\n",
              "      <td>0</td>\n",
              "      <td>0.0</td>\n",
              "      <td>14.149140</td>\n",
              "      <td>0</td>\n",
              "      <td>0</td>\n",
              "      <td>0</td>\n",
              "      <td>no_crisis</td>\n",
              "    </tr>\n",
              "    <tr>\n",
              "      <th>2</th>\n",
              "      <td>1</td>\n",
              "      <td>3</td>\n",
              "      <td>Algeria</td>\n",
              "      <td>1872</td>\n",
              "      <td>0</td>\n",
              "      <td>0.052274</td>\n",
              "      <td>0</td>\n",
              "      <td>0</td>\n",
              "      <td>0.0</td>\n",
              "      <td>-3.718593</td>\n",
              "      <td>0</td>\n",
              "      <td>0</td>\n",
              "      <td>0</td>\n",
              "      <td>no_crisis</td>\n",
              "    </tr>\n",
              "    <tr>\n",
              "      <th>3</th>\n",
              "      <td>1</td>\n",
              "      <td>3</td>\n",
              "      <td>Algeria</td>\n",
              "      <td>1873</td>\n",
              "      <td>0</td>\n",
              "      <td>0.051680</td>\n",
              "      <td>0</td>\n",
              "      <td>0</td>\n",
              "      <td>0.0</td>\n",
              "      <td>11.203897</td>\n",
              "      <td>0</td>\n",
              "      <td>0</td>\n",
              "      <td>0</td>\n",
              "      <td>no_crisis</td>\n",
              "    </tr>\n",
              "    <tr>\n",
              "      <th>4</th>\n",
              "      <td>1</td>\n",
              "      <td>3</td>\n",
              "      <td>Algeria</td>\n",
              "      <td>1874</td>\n",
              "      <td>0</td>\n",
              "      <td>0.051308</td>\n",
              "      <td>0</td>\n",
              "      <td>0</td>\n",
              "      <td>0.0</td>\n",
              "      <td>-3.848561</td>\n",
              "      <td>0</td>\n",
              "      <td>0</td>\n",
              "      <td>0</td>\n",
              "      <td>no_crisis</td>\n",
              "    </tr>\n",
              "  </tbody>\n",
              "</table>\n",
              "</div>"
            ],
            "text/plain": [
              "   case  cc3  country  ...  currency_crises  inflation_crises  banking_crisis\n",
              "0     1    3  Algeria  ...                0                 0          crisis\n",
              "1     1    3  Algeria  ...                0                 0       no_crisis\n",
              "2     1    3  Algeria  ...                0                 0       no_crisis\n",
              "3     1    3  Algeria  ...                0                 0       no_crisis\n",
              "4     1    3  Algeria  ...                0                 0       no_crisis\n",
              "\n",
              "[5 rows x 14 columns]"
            ]
          },
          "metadata": {
            "tags": []
          },
          "execution_count": 7
        }
      ]
    },
    {
      "cell_type": "code",
      "metadata": {
        "id": "AklqoK9IP_vL",
        "colab_type": "code",
        "colab": {
          "base_uri": "https://localhost:8080/",
          "height": 253
        },
        "outputId": "9c244778-bf2b-4ed6-fa6f-d6274afa4682"
      },
      "source": [
        "ClassCoded = data[['country']]  #needs to be float data type\n",
        "LaEnc = LabelEncoder()\n",
        "data[['country']] = pd.DataFrame(LaEnc.fit_transform(ClassCoded), columns=[['country']])\n",
        "data.head()"
      ],
      "execution_count": 8,
      "outputs": [
        {
          "output_type": "stream",
          "text": [
            "/usr/local/lib/python3.6/dist-packages/sklearn/preprocessing/label.py:235: DataConversionWarning: A column-vector y was passed when a 1d array was expected. Please change the shape of y to (n_samples, ), for example using ravel().\n",
            "  y = column_or_1d(y, warn=True)\n"
          ],
          "name": "stderr"
        },
        {
          "output_type": "execute_result",
          "data": {
            "text/html": [
              "<div>\n",
              "<style scoped>\n",
              "    .dataframe tbody tr th:only-of-type {\n",
              "        vertical-align: middle;\n",
              "    }\n",
              "\n",
              "    .dataframe tbody tr th {\n",
              "        vertical-align: top;\n",
              "    }\n",
              "\n",
              "    .dataframe thead th {\n",
              "        text-align: right;\n",
              "    }\n",
              "</style>\n",
              "<table border=\"1\" class=\"dataframe\">\n",
              "  <thead>\n",
              "    <tr style=\"text-align: right;\">\n",
              "      <th></th>\n",
              "      <th>case</th>\n",
              "      <th>cc3</th>\n",
              "      <th>country</th>\n",
              "      <th>year</th>\n",
              "      <th>systemic_crisis</th>\n",
              "      <th>exch_usd</th>\n",
              "      <th>domestic_debt_in_default</th>\n",
              "      <th>sovereign_external_debt_default</th>\n",
              "      <th>gdp_weighted_default</th>\n",
              "      <th>inflation_annual_cpi</th>\n",
              "      <th>independence</th>\n",
              "      <th>currency_crises</th>\n",
              "      <th>inflation_crises</th>\n",
              "      <th>banking_crisis</th>\n",
              "    </tr>\n",
              "  </thead>\n",
              "  <tbody>\n",
              "    <tr>\n",
              "      <th>0</th>\n",
              "      <td>1</td>\n",
              "      <td>3</td>\n",
              "      <td>0</td>\n",
              "      <td>1870</td>\n",
              "      <td>1</td>\n",
              "      <td>0.052264</td>\n",
              "      <td>0</td>\n",
              "      <td>0</td>\n",
              "      <td>0.0</td>\n",
              "      <td>3.441456</td>\n",
              "      <td>0</td>\n",
              "      <td>0</td>\n",
              "      <td>0</td>\n",
              "      <td>crisis</td>\n",
              "    </tr>\n",
              "    <tr>\n",
              "      <th>1</th>\n",
              "      <td>1</td>\n",
              "      <td>3</td>\n",
              "      <td>0</td>\n",
              "      <td>1871</td>\n",
              "      <td>0</td>\n",
              "      <td>0.052798</td>\n",
              "      <td>0</td>\n",
              "      <td>0</td>\n",
              "      <td>0.0</td>\n",
              "      <td>14.149140</td>\n",
              "      <td>0</td>\n",
              "      <td>0</td>\n",
              "      <td>0</td>\n",
              "      <td>no_crisis</td>\n",
              "    </tr>\n",
              "    <tr>\n",
              "      <th>2</th>\n",
              "      <td>1</td>\n",
              "      <td>3</td>\n",
              "      <td>0</td>\n",
              "      <td>1872</td>\n",
              "      <td>0</td>\n",
              "      <td>0.052274</td>\n",
              "      <td>0</td>\n",
              "      <td>0</td>\n",
              "      <td>0.0</td>\n",
              "      <td>-3.718593</td>\n",
              "      <td>0</td>\n",
              "      <td>0</td>\n",
              "      <td>0</td>\n",
              "      <td>no_crisis</td>\n",
              "    </tr>\n",
              "    <tr>\n",
              "      <th>3</th>\n",
              "      <td>1</td>\n",
              "      <td>3</td>\n",
              "      <td>0</td>\n",
              "      <td>1873</td>\n",
              "      <td>0</td>\n",
              "      <td>0.051680</td>\n",
              "      <td>0</td>\n",
              "      <td>0</td>\n",
              "      <td>0.0</td>\n",
              "      <td>11.203897</td>\n",
              "      <td>0</td>\n",
              "      <td>0</td>\n",
              "      <td>0</td>\n",
              "      <td>no_crisis</td>\n",
              "    </tr>\n",
              "    <tr>\n",
              "      <th>4</th>\n",
              "      <td>1</td>\n",
              "      <td>3</td>\n",
              "      <td>0</td>\n",
              "      <td>1874</td>\n",
              "      <td>0</td>\n",
              "      <td>0.051308</td>\n",
              "      <td>0</td>\n",
              "      <td>0</td>\n",
              "      <td>0.0</td>\n",
              "      <td>-3.848561</td>\n",
              "      <td>0</td>\n",
              "      <td>0</td>\n",
              "      <td>0</td>\n",
              "      <td>no_crisis</td>\n",
              "    </tr>\n",
              "  </tbody>\n",
              "</table>\n",
              "</div>"
            ],
            "text/plain": [
              "   case  cc3  country  ...  currency_crises  inflation_crises  banking_crisis\n",
              "0     1    3        0  ...                0                 0          crisis\n",
              "1     1    3        0  ...                0                 0       no_crisis\n",
              "2     1    3        0  ...                0                 0       no_crisis\n",
              "3     1    3        0  ...                0                 0       no_crisis\n",
              "4     1    3        0  ...                0                 0       no_crisis\n",
              "\n",
              "[5 rows x 14 columns]"
            ]
          },
          "metadata": {
            "tags": []
          },
          "execution_count": 8
        }
      ]
    },
    {
      "cell_type": "code",
      "metadata": {
        "id": "lsRF5jJMP_t8",
        "colab_type": "code",
        "colab": {
          "base_uri": "https://localhost:8080/",
          "height": 253
        },
        "outputId": "81689c4d-7e61-43d9-efc7-f9febff7a020"
      },
      "source": [
        "ClassCoded = data[['banking_crisis']]  #needs to be float data type\n",
        "LaEnc = LabelEncoder()\n",
        "data[['banking_crisis']] = pd.DataFrame(LaEnc.fit_transform(ClassCoded), columns=[['banking_crisis']])\n",
        "data.head()"
      ],
      "execution_count": 9,
      "outputs": [
        {
          "output_type": "stream",
          "text": [
            "/usr/local/lib/python3.6/dist-packages/sklearn/preprocessing/label.py:235: DataConversionWarning: A column-vector y was passed when a 1d array was expected. Please change the shape of y to (n_samples, ), for example using ravel().\n",
            "  y = column_or_1d(y, warn=True)\n"
          ],
          "name": "stderr"
        },
        {
          "output_type": "execute_result",
          "data": {
            "text/html": [
              "<div>\n",
              "<style scoped>\n",
              "    .dataframe tbody tr th:only-of-type {\n",
              "        vertical-align: middle;\n",
              "    }\n",
              "\n",
              "    .dataframe tbody tr th {\n",
              "        vertical-align: top;\n",
              "    }\n",
              "\n",
              "    .dataframe thead th {\n",
              "        text-align: right;\n",
              "    }\n",
              "</style>\n",
              "<table border=\"1\" class=\"dataframe\">\n",
              "  <thead>\n",
              "    <tr style=\"text-align: right;\">\n",
              "      <th></th>\n",
              "      <th>case</th>\n",
              "      <th>cc3</th>\n",
              "      <th>country</th>\n",
              "      <th>year</th>\n",
              "      <th>systemic_crisis</th>\n",
              "      <th>exch_usd</th>\n",
              "      <th>domestic_debt_in_default</th>\n",
              "      <th>sovereign_external_debt_default</th>\n",
              "      <th>gdp_weighted_default</th>\n",
              "      <th>inflation_annual_cpi</th>\n",
              "      <th>independence</th>\n",
              "      <th>currency_crises</th>\n",
              "      <th>inflation_crises</th>\n",
              "      <th>banking_crisis</th>\n",
              "    </tr>\n",
              "  </thead>\n",
              "  <tbody>\n",
              "    <tr>\n",
              "      <th>0</th>\n",
              "      <td>1</td>\n",
              "      <td>3</td>\n",
              "      <td>0</td>\n",
              "      <td>1870</td>\n",
              "      <td>1</td>\n",
              "      <td>0.052264</td>\n",
              "      <td>0</td>\n",
              "      <td>0</td>\n",
              "      <td>0.0</td>\n",
              "      <td>3.441456</td>\n",
              "      <td>0</td>\n",
              "      <td>0</td>\n",
              "      <td>0</td>\n",
              "      <td>0</td>\n",
              "    </tr>\n",
              "    <tr>\n",
              "      <th>1</th>\n",
              "      <td>1</td>\n",
              "      <td>3</td>\n",
              "      <td>0</td>\n",
              "      <td>1871</td>\n",
              "      <td>0</td>\n",
              "      <td>0.052798</td>\n",
              "      <td>0</td>\n",
              "      <td>0</td>\n",
              "      <td>0.0</td>\n",
              "      <td>14.149140</td>\n",
              "      <td>0</td>\n",
              "      <td>0</td>\n",
              "      <td>0</td>\n",
              "      <td>1</td>\n",
              "    </tr>\n",
              "    <tr>\n",
              "      <th>2</th>\n",
              "      <td>1</td>\n",
              "      <td>3</td>\n",
              "      <td>0</td>\n",
              "      <td>1872</td>\n",
              "      <td>0</td>\n",
              "      <td>0.052274</td>\n",
              "      <td>0</td>\n",
              "      <td>0</td>\n",
              "      <td>0.0</td>\n",
              "      <td>-3.718593</td>\n",
              "      <td>0</td>\n",
              "      <td>0</td>\n",
              "      <td>0</td>\n",
              "      <td>1</td>\n",
              "    </tr>\n",
              "    <tr>\n",
              "      <th>3</th>\n",
              "      <td>1</td>\n",
              "      <td>3</td>\n",
              "      <td>0</td>\n",
              "      <td>1873</td>\n",
              "      <td>0</td>\n",
              "      <td>0.051680</td>\n",
              "      <td>0</td>\n",
              "      <td>0</td>\n",
              "      <td>0.0</td>\n",
              "      <td>11.203897</td>\n",
              "      <td>0</td>\n",
              "      <td>0</td>\n",
              "      <td>0</td>\n",
              "      <td>1</td>\n",
              "    </tr>\n",
              "    <tr>\n",
              "      <th>4</th>\n",
              "      <td>1</td>\n",
              "      <td>3</td>\n",
              "      <td>0</td>\n",
              "      <td>1874</td>\n",
              "      <td>0</td>\n",
              "      <td>0.051308</td>\n",
              "      <td>0</td>\n",
              "      <td>0</td>\n",
              "      <td>0.0</td>\n",
              "      <td>-3.848561</td>\n",
              "      <td>0</td>\n",
              "      <td>0</td>\n",
              "      <td>0</td>\n",
              "      <td>1</td>\n",
              "    </tr>\n",
              "  </tbody>\n",
              "</table>\n",
              "</div>"
            ],
            "text/plain": [
              "   case  cc3  country  ...  currency_crises  inflation_crises  banking_crisis\n",
              "0     1    3        0  ...                0                 0               0\n",
              "1     1    3        0  ...                0                 0               1\n",
              "2     1    3        0  ...                0                 0               1\n",
              "3     1    3        0  ...                0                 0               1\n",
              "4     1    3        0  ...                0                 0               1\n",
              "\n",
              "[5 rows x 14 columns]"
            ]
          },
          "metadata": {
            "tags": []
          },
          "execution_count": 9
        }
      ]
    },
    {
      "cell_type": "code",
      "metadata": {
        "id": "kBp_KHKUPi7f",
        "colab_type": "code",
        "colab": {
          "base_uri": "https://localhost:8080/",
          "height": 70
        },
        "outputId": "609d3b40-aa0e-4f09-a579-f576049b8835"
      },
      "source": [
        "Positive = data[data['banking_crisis'] == 1]['banking_crisis'].count()\n",
        "Negative = data.shape[0] - Positive\n",
        "print('Распределение классов:')\n",
        "print('    Положительные: {} % ({})'.format(round(Positive/data.shape[0]*100, 4),Positive)) #crisis present\n",
        "print('    Отрицательные: {} % ({})'.format(round(Negative/data.shape[0]*100, 4), Negative))"
      ],
      "execution_count": 10,
      "outputs": [
        {
          "output_type": "stream",
          "text": [
            "Распределение классов:\n",
            "    Положительные: 91.1237 % (965)\n",
            "    Отрицательные: 8.8763 % (94)\n"
          ],
          "name": "stdout"
        }
      ]
    },
    {
      "cell_type": "code",
      "metadata": {
        "id": "kGud_6z6Qo2l",
        "colab_type": "code",
        "colab": {}
      },
      "source": [
        "TrainX,TestX,TrainY,TestY = train_test_split(data[['case','cc3','country','year','systemic_crisis','exch_usd','domestic_debt_in_default',\n",
        "                                                   'sovereign_external_debt_default','gdp_weighted_default', 'inflation_annual_cpi',\n",
        "                                                   'independence','currency_crises','inflation_crises']],data['banking_crisis'], test_size=0.3, random_state = 1)"
      ],
      "execution_count": 0,
      "outputs": []
    },
    {
      "cell_type": "code",
      "metadata": {
        "id": "bDCJFZdfQynj",
        "colab_type": "code",
        "colab": {}
      },
      "source": [
        "LogReg = LogisticRegression(C=10, solver='liblinear')\n",
        "SVCT = SVC(gamma = 10)\n",
        "DecTree = DecisionTreeClassifier(max_depth = 4)"
      ],
      "execution_count": 0,
      "outputs": []
    },
    {
      "cell_type": "code",
      "metadata": {
        "id": "v-CeGB7YQ3R_",
        "colab_type": "code",
        "colab": {
          "base_uri": "https://localhost:8080/",
          "height": 123
        },
        "outputId": "a56cd2f6-4802-422e-ae99-821a70dfc0db"
      },
      "source": [
        "LogReg.fit(TrainX, TrainY)\n",
        "SVCT.fit(TrainX, TrainY)\n",
        "DecTree.fit(TrainX, TrainY)"
      ],
      "execution_count": 14,
      "outputs": [
        {
          "output_type": "execute_result",
          "data": {
            "text/plain": [
              "DecisionTreeClassifier(class_weight=None, criterion='gini', max_depth=4,\n",
              "                       max_features=None, max_leaf_nodes=None,\n",
              "                       min_impurity_decrease=0.0, min_impurity_split=None,\n",
              "                       min_samples_leaf=1, min_samples_split=2,\n",
              "                       min_weight_fraction_leaf=0.0, presort=False,\n",
              "                       random_state=None, splitter='best')"
            ]
          },
          "metadata": {
            "tags": []
          },
          "execution_count": 14
        }
      ]
    },
    {
      "cell_type": "code",
      "metadata": {
        "id": "1w-I5LeVSjq3",
        "colab_type": "code",
        "colab": {
          "base_uri": "https://localhost:8080/",
          "height": 70
        },
        "outputId": "f29588ff-0847-4efd-eafb-dd90e539cc36"
      },
      "source": [
        "Result = []\n",
        "Result.append(LogReg.predict(TestX))\n",
        "Result.append(SVCT.predict(TestX))\n",
        "Result.append(DecTree.predict(TestX))\n",
        "for res in Result:\n",
        "    print(accuracy_score(TestY,res))"
      ],
      "execution_count": 15,
      "outputs": [
        {
          "output_type": "stream",
          "text": [
            "0.9779874213836478\n",
            "0.9025157232704403\n",
            "0.9811320754716981\n"
          ],
          "name": "stdout"
        }
      ]
    },
    {
      "cell_type": "code",
      "metadata": {
        "id": "jMa0AzUYSpYI",
        "colab_type": "code",
        "colab": {
          "base_uri": "https://localhost:8080/",
          "height": 176
        },
        "outputId": "c79b89b7-65de-414b-b5b6-2ed3fc9f958d"
      },
      "source": [
        "for res in Result:\n",
        "    print(confusion_matrix(TestY,res), '\\n')"
      ],
      "execution_count": 16,
      "outputs": [
        {
          "output_type": "stream",
          "text": [
            "[[ 27   4]\n",
            " [  3 284]] \n",
            "\n",
            "[[  0  31]\n",
            " [  0 287]] \n",
            "\n",
            "[[ 27   4]\n",
            " [  2 285]] \n",
            "\n"
          ],
          "name": "stdout"
        }
      ]
    },
    {
      "cell_type": "code",
      "metadata": {
        "id": "ZZAjkQuIStxP",
        "colab_type": "code",
        "colab": {
          "base_uri": "https://localhost:8080/",
          "height": 605
        },
        "outputId": "79334135-1cfb-4639-ca58-79181e30277a"
      },
      "source": [
        "for res in Result:\n",
        "    print(classification_report(TestY,res), '\\n')"
      ],
      "execution_count": 17,
      "outputs": [
        {
          "output_type": "stream",
          "text": [
            "              precision    recall  f1-score   support\n",
            "\n",
            "           0       0.90      0.87      0.89        31\n",
            "           1       0.99      0.99      0.99       287\n",
            "\n",
            "    accuracy                           0.98       318\n",
            "   macro avg       0.94      0.93      0.94       318\n",
            "weighted avg       0.98      0.98      0.98       318\n",
            " \n",
            "\n",
            "              precision    recall  f1-score   support\n",
            "\n",
            "           0       0.00      0.00      0.00        31\n",
            "           1       0.90      1.00      0.95       287\n",
            "\n",
            "    accuracy                           0.90       318\n",
            "   macro avg       0.45      0.50      0.47       318\n",
            "weighted avg       0.81      0.90      0.86       318\n",
            " \n",
            "\n",
            "              precision    recall  f1-score   support\n",
            "\n",
            "           0       0.93      0.87      0.90        31\n",
            "           1       0.99      0.99      0.99       287\n",
            "\n",
            "    accuracy                           0.98       318\n",
            "   macro avg       0.96      0.93      0.94       318\n",
            "weighted avg       0.98      0.98      0.98       318\n",
            " \n",
            "\n"
          ],
          "name": "stdout"
        },
        {
          "output_type": "stream",
          "text": [
            "/usr/local/lib/python3.6/dist-packages/sklearn/metrics/classification.py:1437: UndefinedMetricWarning: Precision and F-score are ill-defined and being set to 0.0 in labels with no predicted samples.\n",
            "  'precision', 'predicted', average, warn_for)\n"
          ],
          "name": "stderr"
        }
      ]
    },
    {
      "cell_type": "code",
      "metadata": {
        "id": "PomvmJWbS05Y",
        "colab_type": "code",
        "colab": {}
      },
      "source": [
        "#??  correct below cells\n",
        "CTP = [0.001,0.01,0.1,1,10,100,1000]\n",
        "GammaTP = [0.001,0.01,0.1,1,10,100,1000]\n",
        "DepthTP = [1,2,3,4,5,6,7,8,9,10]\n",
        "tuned_parameters = [{'C':CTP}]\n",
        "LogRegGS = GridSearchCV(LogisticRegression(solver='liblinear'), tuned_parameters, cv=LeaveOneOut(), scoring='accuracy')\n",
        "LogRegGS.fit(data[['case','cc3','country','year','systemic_crisis','exch_usd','domestic_debt_in_default',\n",
        "                                                   'sovereign_external_debt_default','gdp_weighted_default', 'inflation_annual_cpi',\n",
        "                                                   'independence','currency_crises','inflation_crises']],data['banking_crisis'])\n",
        "LogRegCBP = LogRegGS.best_params_.get('C')\n",
        "\n",
        "tuned_parameters = [{'gamma':GammaTP}]\n",
        "SVCGS = GridSearchCV(SVC(), tuned_parameters, cv=LeaveOneOut(), scoring='accuracy')\n",
        "SVCGS.fit(data[['case','cc3','country','year','systemic_crisis','exch_usd','domestic_debt_in_default',\n",
        "                                                   'sovereign_external_debt_default','gdp_weighted_default', 'inflation_annual_cpi',\n",
        "                                                   'independence','currency_crises','inflation_crises']],data['banking_crisis'])\n",
        "SVCGammaBP = SVCGS.best_params_.get('gamma')\n",
        "\n",
        "tuned_parameters = [{'max_depth':DepthTP}]\n",
        "DecTreeGS = GridSearchCV(DecisionTreeClassifier(), tuned_parameters, cv=LeaveOneOut(), scoring='accuracy')\n",
        "DecTreeGS.fit(data[['case','cc3','country','year','systemic_crisis','exch_usd','domestic_debt_in_default',\n",
        "                                                   'sovereign_external_debt_default','gdp_weighted_default', 'inflation_annual_cpi',\n",
        "                                                   'independence','currency_crises','inflation_crises']],data['banking_crisis'])\n",
        "DecTreeDepthBP = DecTreeGS.best_params_.get('max_depth')"
      ],
      "execution_count": 0,
      "outputs": []
    },
    {
      "cell_type": "code",
      "metadata": {
        "id": "M9-7ZEenS5LP",
        "colab_type": "code",
        "colab": {
          "base_uri": "https://localhost:8080/",
          "height": 87
        },
        "outputId": "30e4541e-41b2-4edd-cbe1-af995150a94a"
      },
      "source": [
        "print('Подобранные гиперпараметры:')\n",
        "print('    Логистическая регрессия: параметр С: ',LogRegCBP)\n",
        "print('    Метод Опорных Векторов: параметр gamma: ',SVCGammaBP)\n",
        "print('    Дерево решений: параметр глубина: ',DecTreeDepthBP)"
      ],
      "execution_count": 19,
      "outputs": [
        {
          "output_type": "stream",
          "text": [
            "Подобранные гиперпараметры:\n",
            "    Логистическая регрессия: параметр С:  10\n",
            "    Метод Опорных Векторов: параметр gamma:  0.001\n",
            "    Дерево решений: параметр глубина:  4\n"
          ],
          "name": "stdout"
        }
      ]
    },
    {
      "cell_type": "code",
      "metadata": {
        "id": "t00bbY2vS7GG",
        "colab_type": "code",
        "colab": {}
      },
      "source": [
        "LogReg = LogisticRegression(C=LogRegCBP, solver='liblinear')\n",
        "SVCT = SVC(gamma = SVCGammaBP)\n",
        "DecTree = DecisionTreeClassifier(max_depth = DecTreeDepthBP)"
      ],
      "execution_count": 0,
      "outputs": []
    },
    {
      "cell_type": "code",
      "metadata": {
        "id": "mBF3pXYxS9PQ",
        "colab_type": "code",
        "colab": {
          "base_uri": "https://localhost:8080/",
          "height": 123
        },
        "outputId": "f632a1dc-fdb4-4b25-8c2b-10db65a3788f"
      },
      "source": [
        "LogReg.fit(TrainX, TrainY)\n",
        "SVCT.fit(TrainX, TrainY)\n",
        "DecTree.fit(TrainX, TrainY)"
      ],
      "execution_count": 21,
      "outputs": [
        {
          "output_type": "execute_result",
          "data": {
            "text/plain": [
              "DecisionTreeClassifier(class_weight=None, criterion='gini', max_depth=4,\n",
              "                       max_features=None, max_leaf_nodes=None,\n",
              "                       min_impurity_decrease=0.0, min_impurity_split=None,\n",
              "                       min_samples_leaf=1, min_samples_split=2,\n",
              "                       min_weight_fraction_leaf=0.0, presort=False,\n",
              "                       random_state=None, splitter='best')"
            ]
          },
          "metadata": {
            "tags": []
          },
          "execution_count": 21
        }
      ]
    },
    {
      "cell_type": "code",
      "metadata": {
        "id": "g3ECBNafTBGf",
        "colab_type": "code",
        "colab": {
          "base_uri": "https://localhost:8080/",
          "height": 70
        },
        "outputId": "5d13f86c-ed87-4301-e6c0-503099d81dc1"
      },
      "source": [
        "Result = []\n",
        "Result.append(LogReg.predict(TestX))\n",
        "Result.append(SVCT.predict(TestX))\n",
        "Result.append(DecTree.predict(TestX))\n",
        "for res in Result:\n",
        "    print(accuracy_score(TestY,res))"
      ],
      "execution_count": 22,
      "outputs": [
        {
          "output_type": "stream",
          "text": [
            "0.9779874213836478\n",
            "0.9088050314465409\n",
            "0.9811320754716981\n"
          ],
          "name": "stdout"
        }
      ]
    },
    {
      "cell_type": "code",
      "metadata": {
        "id": "itKL7DS3TDJZ",
        "colab_type": "code",
        "colab": {
          "base_uri": "https://localhost:8080/",
          "height": 176
        },
        "outputId": "0c322677-4df7-40dd-8913-616db2ed55bc"
      },
      "source": [
        "for res in Result:\n",
        "    print(confusion_matrix(TestY,res), '\\n')"
      ],
      "execution_count": 23,
      "outputs": [
        {
          "output_type": "stream",
          "text": [
            "[[ 27   4]\n",
            " [  3 284]] \n",
            "\n",
            "[[  3  28]\n",
            " [  1 286]] \n",
            "\n",
            "[[ 27   4]\n",
            " [  2 285]] \n",
            "\n"
          ],
          "name": "stdout"
        }
      ]
    },
    {
      "cell_type": "code",
      "metadata": {
        "id": "Vz_coYUdTFAG",
        "colab_type": "code",
        "colab": {
          "base_uri": "https://localhost:8080/",
          "height": 550
        },
        "outputId": "42581fe9-4a6a-44b1-f3d6-4f40ba24b3b9"
      },
      "source": [
        "for res in Result:\n",
        "    print(classification_report(TestY,res), '\\n')"
      ],
      "execution_count": 24,
      "outputs": [
        {
          "output_type": "stream",
          "text": [
            "              precision    recall  f1-score   support\n",
            "\n",
            "           0       0.90      0.87      0.89        31\n",
            "           1       0.99      0.99      0.99       287\n",
            "\n",
            "    accuracy                           0.98       318\n",
            "   macro avg       0.94      0.93      0.94       318\n",
            "weighted avg       0.98      0.98      0.98       318\n",
            " \n",
            "\n",
            "              precision    recall  f1-score   support\n",
            "\n",
            "           0       0.75      0.10      0.17        31\n",
            "           1       0.91      1.00      0.95       287\n",
            "\n",
            "    accuracy                           0.91       318\n",
            "   macro avg       0.83      0.55      0.56       318\n",
            "weighted avg       0.90      0.91      0.88       318\n",
            " \n",
            "\n",
            "              precision    recall  f1-score   support\n",
            "\n",
            "           0       0.93      0.87      0.90        31\n",
            "           1       0.99      0.99      0.99       287\n",
            "\n",
            "    accuracy                           0.98       318\n",
            "   macro avg       0.96      0.93      0.94       318\n",
            "weighted avg       0.98      0.98      0.98       318\n",
            " \n",
            "\n"
          ],
          "name": "stdout"
        }
      ]
    }
  ]
}