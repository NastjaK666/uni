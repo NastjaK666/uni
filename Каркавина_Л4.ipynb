{
  "nbformat": 4,
  "nbformat_minor": 0,
  "metadata": {
    "colab": {
      "name": "lab4_almost_working.ipynb",
      "provenance": [],
      "collapsed_sections": []
    },
    "kernelspec": {
      "name": "python3",
      "display_name": "Python 3"
    }
  },
  "cells": [
    {
      "cell_type": "code",
      "metadata": {
        "id": "qCjvIr8d0njz",
        "colab_type": "code",
        "colab": {}
      },
      "source": [
        "import sklearn\n",
        "import pandas as pd\n",
        "from sklearn.model_selection import train_test_split\n",
        "from sklearn.neighbors import KNeighborsClassifier\n",
        "from sklearn.preprocessing import LabelEncoder\n",
        "import numpy as np\n",
        "from typing import Dict, Tuple\n",
        "from scipy import stats\n",
        "from sklearn.metrics import accuracy_score, balanced_accuracy_score\n",
        "from sklearn.metrics import precision_score, recall_score, f1_score, classification_report\n",
        "from sklearn.metrics import confusion_matrix\n",
        "from sklearn.metrics import mean_absolute_error, mean_squared_error, mean_squared_log_error, median_absolute_error, r2_score \n",
        "from sklearn.metrics import roc_curve, roc_auc_score\n",
        "import seaborn as sns\n",
        "import matplotlib.pyplot as plt\n",
        "from sklearn.model_selection import cross_val_score, cross_validate, KFold, LeaveOneOut, GridSearchCV,learning_curve,validation_curve\n",
        "import time\n",
        "%matplotlib inline \n",
        "sns.set(style=\"ticks\")"
      ],
      "execution_count": 0,
      "outputs": []
    },
    {
      "cell_type": "code",
      "metadata": {
        "id": "TEbJ4YTL0uBp",
        "colab_type": "code",
        "outputId": "5303a61f-318b-4c4a-c019-f83e4b307e28",
        "colab": {
          "base_uri": "https://localhost:8080/",
          "height": 197
        }
      },
      "source": [
        "url = 'https://raw.githubusercontent.com/NastjaK666/uni/master/StudentsPerformance.csv'\n",
        "data = pd.read_csv(url)\n",
        "data.head()"
      ],
      "execution_count": 0,
      "outputs": [
        {
          "output_type": "execute_result",
          "data": {
            "text/html": [
              "<div>\n",
              "<style scoped>\n",
              "    .dataframe tbody tr th:only-of-type {\n",
              "        vertical-align: middle;\n",
              "    }\n",
              "\n",
              "    .dataframe tbody tr th {\n",
              "        vertical-align: top;\n",
              "    }\n",
              "\n",
              "    .dataframe thead th {\n",
              "        text-align: right;\n",
              "    }\n",
              "</style>\n",
              "<table border=\"1\" class=\"dataframe\">\n",
              "  <thead>\n",
              "    <tr style=\"text-align: right;\">\n",
              "      <th></th>\n",
              "      <th>gender</th>\n",
              "      <th>race/ethnicity</th>\n",
              "      <th>parental level of education</th>\n",
              "      <th>lunch</th>\n",
              "      <th>test preparation course</th>\n",
              "      <th>math score</th>\n",
              "      <th>reading score</th>\n",
              "      <th>writing score</th>\n",
              "    </tr>\n",
              "  </thead>\n",
              "  <tbody>\n",
              "    <tr>\n",
              "      <th>0</th>\n",
              "      <td>female</td>\n",
              "      <td>group B</td>\n",
              "      <td>bachelor's degree</td>\n",
              "      <td>standard</td>\n",
              "      <td>none</td>\n",
              "      <td>72</td>\n",
              "      <td>72</td>\n",
              "      <td>74</td>\n",
              "    </tr>\n",
              "    <tr>\n",
              "      <th>1</th>\n",
              "      <td>female</td>\n",
              "      <td>group C</td>\n",
              "      <td>some college</td>\n",
              "      <td>standard</td>\n",
              "      <td>completed</td>\n",
              "      <td>69</td>\n",
              "      <td>90</td>\n",
              "      <td>88</td>\n",
              "    </tr>\n",
              "    <tr>\n",
              "      <th>2</th>\n",
              "      <td>female</td>\n",
              "      <td>group B</td>\n",
              "      <td>master's degree</td>\n",
              "      <td>standard</td>\n",
              "      <td>none</td>\n",
              "      <td>90</td>\n",
              "      <td>95</td>\n",
              "      <td>93</td>\n",
              "    </tr>\n",
              "    <tr>\n",
              "      <th>3</th>\n",
              "      <td>male</td>\n",
              "      <td>group A</td>\n",
              "      <td>associate's degree</td>\n",
              "      <td>free/reduced</td>\n",
              "      <td>none</td>\n",
              "      <td>47</td>\n",
              "      <td>57</td>\n",
              "      <td>44</td>\n",
              "    </tr>\n",
              "    <tr>\n",
              "      <th>4</th>\n",
              "      <td>male</td>\n",
              "      <td>group C</td>\n",
              "      <td>some college</td>\n",
              "      <td>standard</td>\n",
              "      <td>none</td>\n",
              "      <td>76</td>\n",
              "      <td>78</td>\n",
              "      <td>75</td>\n",
              "    </tr>\n",
              "  </tbody>\n",
              "</table>\n",
              "</div>"
            ],
            "text/plain": [
              "   gender race/ethnicity  ... reading score writing score\n",
              "0  female        group B  ...            72            74\n",
              "1  female        group C  ...            90            88\n",
              "2  female        group B  ...            95            93\n",
              "3    male        group A  ...            57            44\n",
              "4    male        group C  ...            78            75\n",
              "\n",
              "[5 rows x 8 columns]"
            ]
          },
          "metadata": {
            "tags": []
          },
          "execution_count": 3
        }
      ]
    },
    {
      "cell_type": "code",
      "metadata": {
        "id": "Ubo7LkRT6s0A",
        "colab_type": "code",
        "outputId": "59f73ce4-f155-4878-8985-f76bacfc2f8b",
        "colab": {
          "base_uri": "https://localhost:8080/",
          "height": 70
        }
      },
      "source": [
        "# Разделим датасет на обучающий (train) и тестовый (test) набор\n",
        "trainX, testX, trainY, testY = train_test_split(data[['test preparation course','math score','reading score','writing score']],data['parental level of education'], test_size=0.3, random_state = 1)\n",
        "print('Число строк обучающего и тестового наборов:')\n",
        "print('  Обучающий: {0} ({1} %)'.format(trainX.shape[0], round(trainX.shape[0]/data.shape[0]*100,4))) #result procent 4 after point\n",
        "print('  Тестовый: {0} ({1} %)'.format(testX.shape[0], round(testX.shape[0]/data.shape[0]*100,4)))"
      ],
      "execution_count": 0,
      "outputs": [
        {
          "output_type": "stream",
          "text": [
            "Число строк обучающего и тестового наборов:\n",
            "  Обучающий: 700 (70.0 %)\n",
            "  Тестовый: 300 (30.0 %)\n"
          ],
          "name": "stdout"
        }
      ]
    },
    {
      "cell_type": "code",
      "metadata": {
        "id": "VLPVq_Hj0uA4",
        "colab_type": "code",
        "outputId": "1169c501-8a6d-4d5e-f724-8dc167edb933",
        "colab": {
          "base_uri": "https://localhost:8080/",
          "height": 253
        }
      },
      "source": [
        "ClassCoded = data[['parental level of education']]  #needs to be float data type\n",
        "LaEnc = LabelEncoder()\n",
        "data[['parental level of education']] = pd.DataFrame(LaEnc.fit_transform(ClassCoded), columns=[['parental level of education']])\n",
        "data.head()"
      ],
      "execution_count": 0,
      "outputs": [
        {
          "output_type": "stream",
          "text": [
            "/usr/local/lib/python3.6/dist-packages/sklearn/preprocessing/label.py:235: DataConversionWarning: A column-vector y was passed when a 1d array was expected. Please change the shape of y to (n_samples, ), for example using ravel().\n",
            "  y = column_or_1d(y, warn=True)\n"
          ],
          "name": "stderr"
        },
        {
          "output_type": "execute_result",
          "data": {
            "text/html": [
              "<div>\n",
              "<style scoped>\n",
              "    .dataframe tbody tr th:only-of-type {\n",
              "        vertical-align: middle;\n",
              "    }\n",
              "\n",
              "    .dataframe tbody tr th {\n",
              "        vertical-align: top;\n",
              "    }\n",
              "\n",
              "    .dataframe thead th {\n",
              "        text-align: right;\n",
              "    }\n",
              "</style>\n",
              "<table border=\"1\" class=\"dataframe\">\n",
              "  <thead>\n",
              "    <tr style=\"text-align: right;\">\n",
              "      <th></th>\n",
              "      <th>gender</th>\n",
              "      <th>race/ethnicity</th>\n",
              "      <th>parental level of education</th>\n",
              "      <th>lunch</th>\n",
              "      <th>test preparation course</th>\n",
              "      <th>math score</th>\n",
              "      <th>reading score</th>\n",
              "      <th>writing score</th>\n",
              "    </tr>\n",
              "  </thead>\n",
              "  <tbody>\n",
              "    <tr>\n",
              "      <th>0</th>\n",
              "      <td>female</td>\n",
              "      <td>group B</td>\n",
              "      <td>1</td>\n",
              "      <td>standard</td>\n",
              "      <td>1</td>\n",
              "      <td>72</td>\n",
              "      <td>72</td>\n",
              "      <td>74</td>\n",
              "    </tr>\n",
              "    <tr>\n",
              "      <th>1</th>\n",
              "      <td>female</td>\n",
              "      <td>group C</td>\n",
              "      <td>4</td>\n",
              "      <td>standard</td>\n",
              "      <td>0</td>\n",
              "      <td>69</td>\n",
              "      <td>90</td>\n",
              "      <td>88</td>\n",
              "    </tr>\n",
              "    <tr>\n",
              "      <th>2</th>\n",
              "      <td>female</td>\n",
              "      <td>group B</td>\n",
              "      <td>3</td>\n",
              "      <td>standard</td>\n",
              "      <td>1</td>\n",
              "      <td>90</td>\n",
              "      <td>95</td>\n",
              "      <td>93</td>\n",
              "    </tr>\n",
              "    <tr>\n",
              "      <th>3</th>\n",
              "      <td>male</td>\n",
              "      <td>group A</td>\n",
              "      <td>0</td>\n",
              "      <td>free/reduced</td>\n",
              "      <td>1</td>\n",
              "      <td>47</td>\n",
              "      <td>57</td>\n",
              "      <td>44</td>\n",
              "    </tr>\n",
              "    <tr>\n",
              "      <th>4</th>\n",
              "      <td>male</td>\n",
              "      <td>group C</td>\n",
              "      <td>4</td>\n",
              "      <td>standard</td>\n",
              "      <td>1</td>\n",
              "      <td>76</td>\n",
              "      <td>78</td>\n",
              "      <td>75</td>\n",
              "    </tr>\n",
              "  </tbody>\n",
              "</table>\n",
              "</div>"
            ],
            "text/plain": [
              "   gender race/ethnicity  ...  reading score writing score\n",
              "0  female        group B  ...             72            74\n",
              "1  female        group C  ...             90            88\n",
              "2  female        group B  ...             95            93\n",
              "3    male        group A  ...             57            44\n",
              "4    male        group C  ...             78            75\n",
              "\n",
              "[5 rows x 8 columns]"
            ]
          },
          "metadata": {
            "tags": []
          },
          "execution_count": 14
        }
      ]
    },
    {
      "cell_type": "code",
      "metadata": {
        "id": "Eblp6CIkmOKd",
        "colab_type": "code",
        "outputId": "dc9d61f4-88c9-4638-efd1-55534cdf4e15",
        "colab": {
          "base_uri": "https://localhost:8080/",
          "height": 253
        }
      },
      "source": [
        "ClassCoded = data[['test preparation course']]  \n",
        "LaEnc = LabelEncoder()\n",
        "data[['test preparation course']] = pd.DataFrame(LaEnc.fit_transform(ClassCoded), columns=[['test preparation course']])\n",
        "data.head()"
      ],
      "execution_count": 0,
      "outputs": [
        {
          "output_type": "stream",
          "text": [
            "/usr/local/lib/python3.6/dist-packages/sklearn/preprocessing/label.py:235: DataConversionWarning: A column-vector y was passed when a 1d array was expected. Please change the shape of y to (n_samples, ), for example using ravel().\n",
            "  y = column_or_1d(y, warn=True)\n"
          ],
          "name": "stderr"
        },
        {
          "output_type": "execute_result",
          "data": {
            "text/html": [
              "<div>\n",
              "<style scoped>\n",
              "    .dataframe tbody tr th:only-of-type {\n",
              "        vertical-align: middle;\n",
              "    }\n",
              "\n",
              "    .dataframe tbody tr th {\n",
              "        vertical-align: top;\n",
              "    }\n",
              "\n",
              "    .dataframe thead th {\n",
              "        text-align: right;\n",
              "    }\n",
              "</style>\n",
              "<table border=\"1\" class=\"dataframe\">\n",
              "  <thead>\n",
              "    <tr style=\"text-align: right;\">\n",
              "      <th></th>\n",
              "      <th>gender</th>\n",
              "      <th>race/ethnicity</th>\n",
              "      <th>parental level of education</th>\n",
              "      <th>lunch</th>\n",
              "      <th>test preparation course</th>\n",
              "      <th>math score</th>\n",
              "      <th>reading score</th>\n",
              "      <th>writing score</th>\n",
              "    </tr>\n",
              "  </thead>\n",
              "  <tbody>\n",
              "    <tr>\n",
              "      <th>0</th>\n",
              "      <td>female</td>\n",
              "      <td>group B</td>\n",
              "      <td>1</td>\n",
              "      <td>standard</td>\n",
              "      <td>1</td>\n",
              "      <td>72</td>\n",
              "      <td>72</td>\n",
              "      <td>74</td>\n",
              "    </tr>\n",
              "    <tr>\n",
              "      <th>1</th>\n",
              "      <td>female</td>\n",
              "      <td>group C</td>\n",
              "      <td>4</td>\n",
              "      <td>standard</td>\n",
              "      <td>0</td>\n",
              "      <td>69</td>\n",
              "      <td>90</td>\n",
              "      <td>88</td>\n",
              "    </tr>\n",
              "    <tr>\n",
              "      <th>2</th>\n",
              "      <td>female</td>\n",
              "      <td>group B</td>\n",
              "      <td>3</td>\n",
              "      <td>standard</td>\n",
              "      <td>1</td>\n",
              "      <td>90</td>\n",
              "      <td>95</td>\n",
              "      <td>93</td>\n",
              "    </tr>\n",
              "    <tr>\n",
              "      <th>3</th>\n",
              "      <td>male</td>\n",
              "      <td>group A</td>\n",
              "      <td>0</td>\n",
              "      <td>free/reduced</td>\n",
              "      <td>1</td>\n",
              "      <td>47</td>\n",
              "      <td>57</td>\n",
              "      <td>44</td>\n",
              "    </tr>\n",
              "    <tr>\n",
              "      <th>4</th>\n",
              "      <td>male</td>\n",
              "      <td>group C</td>\n",
              "      <td>4</td>\n",
              "      <td>standard</td>\n",
              "      <td>1</td>\n",
              "      <td>76</td>\n",
              "      <td>78</td>\n",
              "      <td>75</td>\n",
              "    </tr>\n",
              "  </tbody>\n",
              "</table>\n",
              "</div>"
            ],
            "text/plain": [
              "   gender race/ethnicity  ...  reading score writing score\n",
              "0  female        group B  ...             72            74\n",
              "1  female        group C  ...             90            88\n",
              "2  female        group B  ...             95            93\n",
              "3    male        group A  ...             57            44\n",
              "4    male        group C  ...             78            75\n",
              "\n",
              "[5 rows x 8 columns]"
            ]
          },
          "metadata": {
            "tags": []
          },
          "execution_count": 15
        }
      ]
    },
    {
      "cell_type": "code",
      "metadata": {
        "id": "pe80PYlLleVX",
        "colab_type": "code",
        "outputId": "0289b454-9d7d-4ea2-abc6-c3f3e9d89961",
        "colab": {
          "base_uri": "https://localhost:8080/",
          "height": 70
        }
      },
      "source": [
        "# Проведём обучение модели числом соседей = 6\n",
        "Classifier6N = KNeighborsClassifier(n_neighbors = 6)\n",
        "Classifier6N.fit(trainX,trainY)"
      ],
      "execution_count": 0,
      "outputs": [
        {
          "output_type": "execute_result",
          "data": {
            "text/plain": [
              "KNeighborsClassifier(algorithm='auto', leaf_size=30, metric='minkowski',\n",
              "                     metric_params=None, n_jobs=None, n_neighbors=6, p=2,\n",
              "                     weights='uniform')"
            ]
          },
          "metadata": {
            "tags": []
          },
          "execution_count": 20
        }
      ]
    },
    {
      "cell_type": "code",
      "metadata": {
        "id": "70C3t3dFleTd",
        "colab_type": "code",
        "outputId": "38fcb46e-a0e0-42c3-aff6-80d6c3663a51",
        "colab": {
          "base_uri": "https://localhost:8080/",
          "height": 34
        }
      },
      "source": [
        "# Оценка качества обучения модели.\n",
        "Nb6Score = round(Classifier6N.score(testX,testY)*100, 4) \n",
        "print('Классификатор с 6 соседями: {} %'.format(Nb6Score))"
      ],
      "execution_count": 0,
      "outputs": [
        {
          "output_type": "stream",
          "text": [
            "Классификатор с 6 соседями: 25.3333 %\n"
          ],
          "name": "stdout"
        }
      ]
    },
    {
      "cell_type": "code",
      "metadata": {
        "id": "EV-gWcO6oTK8",
        "colab_type": "code",
        "outputId": "ec4500b2-5261-4a98-c71e-50f47cb83ebb",
        "colab": {
          "base_uri": "https://localhost:8080/",
          "height": 34
        }
      },
      "source": [
        "Results6N = Classifier6N.predict(testX) #??\n",
        "accuracy_score(testY, Results6N)"
      ],
      "execution_count": 0,
      "outputs": [
        {
          "output_type": "execute_result",
          "data": {
            "text/plain": [
              "0.25333333333333335"
            ]
          },
          "metadata": {
            "tags": []
          },
          "execution_count": 27
        }
      ]
    },
    {
      "cell_type": "code",
      "metadata": {
        "id": "ifo-9PbLoTJV",
        "colab_type": "code",
        "outputId": "c3a068cf-44c3-4fa4-e32f-116fe8066a25",
        "colab": {
          "base_uri": "https://localhost:8080/",
          "height": 123
        }
      },
      "source": [
        "# Рассмотрим результаты для каждого класса отдельно\n",
        "resultDF = {\n",
        "        'Prediction': Results6N,\n",
        "        'Answer': testY\n",
        "}\n",
        "ResultData = pd.DataFrame(resultDF, columns = ['Prediction','Answer'])\n",
        "Classes = np.unique(testY)\n",
        "for c in Classes:\n",
        "    temp_data_flt = ResultData[ResultData['Answer']==c]\n",
        "    temp_acc = accuracy_score(\n",
        "        temp_data_flt['Answer'].values, \n",
        "        temp_data_flt['Prediction'].values)\n",
        "    print('Результат для класса {0}: {1} %'.format(c, round(temp_acc*100, 4)))"
      ],
      "execution_count": 0,
      "outputs": [
        {
          "output_type": "stream",
          "text": [
            "Результат для класса 0: 46.5517 %\n",
            "Результат для класса 1: 15.5556 %\n",
            "Результат для класса 2: 23.8095 %\n",
            "Результат для класса 3: 12.5 %\n",
            "Результат для класса 4: 29.6875 %\n",
            "Результат для класса 5: 11.1111 %\n"
          ],
          "name": "stdout"
        }
      ]
    },
    {
      "cell_type": "code",
      "metadata": {
        "id": "LXWUbj6so0Rw",
        "colab_type": "code",
        "outputId": "af1e61c6-d9fe-47e2-8e54-3ff74d4beb2a",
        "colab": {
          "base_uri": "https://localhost:8080/",
          "height": 896
        }
      },
      "source": [
        "ClassReport6N = classification_report(testY, Results6N, output_dict = True)\n",
        "for ReportName,ReportResult in ClassReport6N.items():\n",
        "    print('\\nClass :',ReportName)\n",
        "    for result0, result1 in ReportResult.items():\n",
        "        print('   {0} : \\t{1}'.format(result0, result1))     \n",
        "# precision - true/identified as true\n",
        "# recall - true/all present true\n",
        "# f1-score = 2*p*r/(p+r)\n",
        "# support = svm - support vector machine\n",
        "# accuracy = 1true+2true/all identified as true1+true2"
      ],
      "execution_count": 0,
      "outputs": [
        {
          "output_type": "stream",
          "text": [
            "\n",
            "Class : 0\n",
            "   precision : \t0.28125\n",
            "   recall : \t0.46551724137931033\n",
            "   f1-score : \t0.35064935064935066\n",
            "   support : \t58\n",
            "\n",
            "Class : 1\n",
            "   precision : \t0.3181818181818182\n",
            "   recall : \t0.15555555555555556\n",
            "   f1-score : \t0.208955223880597\n",
            "   support : \t45\n",
            "\n",
            "Class : 2\n",
            "   precision : \t0.21739130434782608\n",
            "   recall : \t0.23809523809523808\n",
            "   f1-score : \t0.22727272727272724\n",
            "   support : \t63\n",
            "\n",
            "Class : 3\n",
            "   precision : \t0.125\n",
            "   recall : \t0.125\n",
            "   f1-score : \t0.125\n",
            "   support : \t16\n",
            "\n",
            "Class : 4\n",
            "   precision : \t0.2835820895522388\n",
            "   recall : \t0.296875\n",
            "   f1-score : \t0.29007633587786263\n",
            "   support : \t64\n",
            "\n",
            "Class : 5\n",
            "   precision : \t0.2\n",
            "   recall : \t0.1111111111111111\n",
            "   f1-score : \t0.14285714285714285\n",
            "   support : \t54\n",
            "\n",
            "Class : accuracy\n"
          ],
          "name": "stdout"
        },
        {
          "output_type": "error",
          "ename": "AttributeError",
          "evalue": "ignored",
          "traceback": [
            "\u001b[0;31m---------------------------------------------------------------------------\u001b[0m",
            "\u001b[0;31mAttributeError\u001b[0m                            Traceback (most recent call last)",
            "\u001b[0;32m<ipython-input-29-0cfa815d9fca>\u001b[0m in \u001b[0;36m<module>\u001b[0;34m()\u001b[0m\n\u001b[1;32m      2\u001b[0m \u001b[0;32mfor\u001b[0m \u001b[0mReportName\u001b[0m\u001b[0;34m,\u001b[0m\u001b[0mReportResult\u001b[0m \u001b[0;32min\u001b[0m \u001b[0mClassReport6N\u001b[0m\u001b[0;34m.\u001b[0m\u001b[0mitems\u001b[0m\u001b[0;34m(\u001b[0m\u001b[0;34m)\u001b[0m\u001b[0;34m:\u001b[0m\u001b[0;34m\u001b[0m\u001b[0;34m\u001b[0m\u001b[0m\n\u001b[1;32m      3\u001b[0m     \u001b[0mprint\u001b[0m\u001b[0;34m(\u001b[0m\u001b[0;34m'\\nClass :'\u001b[0m\u001b[0;34m,\u001b[0m\u001b[0mReportName\u001b[0m\u001b[0;34m)\u001b[0m\u001b[0;34m\u001b[0m\u001b[0;34m\u001b[0m\u001b[0m\n\u001b[0;32m----> 4\u001b[0;31m     \u001b[0;32mfor\u001b[0m \u001b[0mresult0\u001b[0m\u001b[0;34m,\u001b[0m \u001b[0mresult1\u001b[0m \u001b[0;32min\u001b[0m \u001b[0mReportResult\u001b[0m\u001b[0;34m.\u001b[0m\u001b[0mitems\u001b[0m\u001b[0;34m(\u001b[0m\u001b[0;34m)\u001b[0m\u001b[0;34m:\u001b[0m\u001b[0;34m\u001b[0m\u001b[0;34m\u001b[0m\u001b[0m\n\u001b[0m\u001b[1;32m      5\u001b[0m         \u001b[0mprint\u001b[0m\u001b[0;34m(\u001b[0m\u001b[0;34m'   {0} : \\t{1}'\u001b[0m\u001b[0;34m.\u001b[0m\u001b[0mformat\u001b[0m\u001b[0;34m(\u001b[0m\u001b[0mresult0\u001b[0m\u001b[0;34m,\u001b[0m \u001b[0mresult1\u001b[0m\u001b[0;34m)\u001b[0m\u001b[0;34m)\u001b[0m\u001b[0;34m\u001b[0m\u001b[0;34m\u001b[0m\u001b[0m\n",
            "\u001b[0;31mAttributeError\u001b[0m: 'float' object has no attribute 'items'"
          ]
        }
      ]
    },
    {
      "cell_type": "code",
      "metadata": {
        "id": "d596eZlSpan3",
        "colab_type": "code",
        "outputId": "a3e1b240-9544-4c29-c4fc-60b610d0579f",
        "colab": {
          "base_uri": "https://localhost:8080/",
          "height": 212
        }
      },
      "source": [
        "# Кросс-валидация\n",
        "# Стратифицированная K-Fold перекрёстная проверка\n",
        "# тестирование на разных частях базы\n",
        "data[['test preparation course','math score','reading score','writing score']],data['parental level of education']\n",
        "\n",
        "Scores1 = cross_val_score(Classifier6N,data[['test preparation course','math score','reading score','writing score']],data['parental level of education'], cv = 3) # 3 parts\n",
        "print('Результаты нестратифицированной перекрёстной проверки:')\n",
        "for Sc in Scores1:\n",
        "    print('    {} %'.format(round(Sc*100,4)))\n",
        "print('Средний результат нестратифицированной перекрёстной проверки: {} %\\n'.format(round(Scores1.mean()*100,4)))\n",
        "# Результат не точен из-за распределения классов в датасете\n",
        "# Для решения данной проблеммы применим стратифицированную перекрёстную проверку\n",
        "kfold = KFold(n_splits = 3, shuffle = True, random_state=0)\n",
        "KFoldStartTime = time.time()\n",
        "Scores2 = cross_val_score(Classifier6N,data[['test preparation course','math score','reading score','writing score']],data['parental level of education'], cv = kfold)\n",
        "KFoldStopTime = time.time()\n",
        "print('Результаты стратифицированной перекрёстной проверки:')\n",
        "for Sc in Scores2:\n",
        "    print('    {} %'.format(round(Sc*100,4)))\n",
        "print('Средний результат стратифицированной перекрёстной проверки: {} %'.format(round(Scores2.mean()*100,4)))"
      ],
      "execution_count": 0,
      "outputs": [
        {
          "output_type": "stream",
          "text": [
            "Результаты нестратифицированной перекрёстной проверки:\n",
            "    21.131 %\n",
            "    22.8228 %\n",
            "    25.3776 %\n",
            "Средний результат нестратифицированной перекрёстной проверки: 23.1105 %\n",
            "\n",
            "Результаты стратифицированной перекрёстной проверки:\n",
            "    21.5569 %\n",
            "    20.7207 %\n",
            "    21.3213 %\n",
            "Средний результат стратифицированной перекрёстной проверки: 21.1996 %\n"
          ],
          "name": "stdout"
        }
      ]
    },
    {
      "cell_type": "code",
      "metadata": {
        "id": "FCYTTIyYqmvW",
        "colab_type": "code",
        "outputId": "5a4437bf-cd92-4642-bf4b-3eacaf82646c",
        "colab": {
          "base_uri": "https://localhost:8080/",
          "height": 70
        }
      },
      "source": [
        "# Перекрёстная проверка с исключением по одному количество фолдов = кол-во элементов\n",
        "loo = LeaveOneOut()\n",
        "LOOStartTime = time.time()\n",
        "Scores3 = cross_val_score(Classifier6N,data[['test preparation course','math score','reading score','writing score']],data['parental level of education'], cv = loo)\n",
        "LOOStopTime = time.time()\n",
        "print('Средний результат перекрёстной проверки  с исключением по одному: {} %'.format(round(Scores3.mean()*100,4)))\n",
        "print('Время выполнения стратифицированной перекрёстной проверки:{} с'.format(round(KFoldStopTime-KFoldStartTime,4)))\n",
        "print('Время выполнения перекрёстной проверки с исключением по одному:{} с'.format(round(LOOStopTime-LOOStartTime,4)))"
      ],
      "execution_count": 0,
      "outputs": [
        {
          "output_type": "stream",
          "text": [
            "Средний результат перекрёстной проверки  с исключением по одному: 21.4 %\n",
            "Время выполнения стратифицированной перекрёстной проверки:0.04 с\n",
            "Время выполнения перекрёстной проверки с исключением по одному:3.6816 с\n"
          ],
          "name": "stdout"
        }
      ]
    },
    {
      "cell_type": "code",
      "metadata": {
        "id": "lALjqVYLrC_a",
        "colab_type": "code",
        "outputId": "84af0435-2850-44d7-c534-4086a679b86a",
        "colab": {
          "base_uri": "https://localhost:8080/",
          "height": 194
        }
      },
      "source": [
        "# Оптимизаия гиперпараметров hyperparameter - outside criteria not related to dataset\n",
        "NeighborsArr = np.array(range(1,16))\n",
        "tuned_parameters = [{'n_neighbors':NeighborsArr}]\n",
        "ClassifierGS = GridSearchCV(KNeighborsClassifier(), tuned_parameters, cv=loo, scoring='accuracy')\n",
        "ClassifierGS.fit(data[['test preparation course','math score','reading score','writing score']],data['parental level of education'])"
      ],
      "execution_count": 0,
      "outputs": [
        {
          "output_type": "execute_result",
          "data": {
            "text/plain": [
              "GridSearchCV(cv=LeaveOneOut(), error_score='raise-deprecating',\n",
              "             estimator=KNeighborsClassifier(algorithm='auto', leaf_size=30,\n",
              "                                            metric='minkowski',\n",
              "                                            metric_params=None, n_jobs=None,\n",
              "                                            n_neighbors=5, p=2,\n",
              "                                            weights='uniform'),\n",
              "             iid='warn', n_jobs=None,\n",
              "             param_grid=[{'n_neighbors': array([ 1,  2,  3,  4,  5,  6,  7,  8,  9, 10, 11, 12, 13, 14, 15])}],\n",
              "             pre_dispatch='2*n_jobs', refit=True, return_train_score=False,\n",
              "             scoring='accuracy', verbose=0)"
            ]
          },
          "metadata": {
            "tags": []
          },
          "execution_count": 33
        }
      ]
    },
    {
      "cell_type": "code",
      "metadata": {
        "id": "l2sbtNwIro31",
        "colab_type": "code",
        "outputId": "e2334f2f-f71c-4c51-9829-e9937ffba529",
        "colab": {
          "base_uri": "https://localhost:8080/",
          "height": 34
        }
      },
      "source": [
        "GSBP = ClassifierGS.best_params_.get('n_neighbors') #лучшее значение параметров\n",
        "GSBP"
      ],
      "execution_count": 0,
      "outputs": [
        {
          "output_type": "execute_result",
          "data": {
            "text/plain": [
              "3"
            ]
          },
          "metadata": {
            "tags": []
          },
          "execution_count": 35
        }
      ]
    },
    {
      "cell_type": "code",
      "metadata": {
        "id": "O-XjweqbrhYi",
        "colab_type": "code",
        "outputId": "fcb906f8-bfec-453a-9bec-4fcdff13d062",
        "colab": {
          "base_uri": "https://localhost:8080/",
          "height": 896
        }
      },
      "source": [
        "#AttributeError: 'float' object has no attribute 'items'\n",
        "ClassifierGSBP = KNeighborsClassifier(n_neighbors = GSBP)\n",
        "ClassifierGSBP.fit(trainX,trainY)\n",
        "ResultsGSBP = ClassifierGSBP.predict(testX)\n",
        "ClassReport6N = classification_report(testY, ResultsGSBP, output_dict = True)\n",
        "for ReportName,ReportResult in ClassReport6N.items():\n",
        "    print('\\nClass :',ReportName)\n",
        "    for result0, result1 in ReportResult.items():\n",
        "        print('   {0} : \\t{1}'.format(result0, result1))"
      ],
      "execution_count": 0,
      "outputs": [
        {
          "output_type": "stream",
          "text": [
            "\n",
            "Class : 0\n",
            "   precision : \t0.21428571428571427\n",
            "   recall : \t0.5172413793103449\n",
            "   f1-score : \t0.30303030303030304\n",
            "   support : \t58\n",
            "\n",
            "Class : 1\n",
            "   precision : \t0.20833333333333334\n",
            "   recall : \t0.2222222222222222\n",
            "   f1-score : \t0.2150537634408602\n",
            "   support : \t45\n",
            "\n",
            "Class : 2\n",
            "   precision : \t0.22448979591836735\n",
            "   recall : \t0.1746031746031746\n",
            "   f1-score : \t0.19642857142857142\n",
            "   support : \t63\n",
            "\n",
            "Class : 3\n",
            "   precision : \t0.0\n",
            "   recall : \t0.0\n",
            "   f1-score : \t0.0\n",
            "   support : \t16\n",
            "\n",
            "Class : 4\n",
            "   precision : \t0.1891891891891892\n",
            "   recall : \t0.109375\n",
            "   f1-score : \t0.1386138613861386\n",
            "   support : \t64\n",
            "\n",
            "Class : 5\n",
            "   precision : \t0.05263157894736842\n",
            "   recall : \t0.018518518518518517\n",
            "   f1-score : \t0.0273972602739726\n",
            "   support : \t54\n",
            "\n",
            "Class : accuracy\n"
          ],
          "name": "stdout"
        },
        {
          "output_type": "error",
          "ename": "AttributeError",
          "evalue": "ignored",
          "traceback": [
            "\u001b[0;31m---------------------------------------------------------------------------\u001b[0m",
            "\u001b[0;31mAttributeError\u001b[0m                            Traceback (most recent call last)",
            "\u001b[0;32m<ipython-input-37-11a8f487ab85>\u001b[0m in \u001b[0;36m<module>\u001b[0;34m()\u001b[0m\n\u001b[1;32m      5\u001b[0m \u001b[0;32mfor\u001b[0m \u001b[0mReportName\u001b[0m\u001b[0;34m,\u001b[0m\u001b[0mReportResult\u001b[0m \u001b[0;32min\u001b[0m \u001b[0mClassReport6N\u001b[0m\u001b[0;34m.\u001b[0m\u001b[0mitems\u001b[0m\u001b[0;34m(\u001b[0m\u001b[0;34m)\u001b[0m\u001b[0;34m:\u001b[0m\u001b[0;34m\u001b[0m\u001b[0;34m\u001b[0m\u001b[0m\n\u001b[1;32m      6\u001b[0m     \u001b[0mprint\u001b[0m\u001b[0;34m(\u001b[0m\u001b[0;34m'\\nClass :'\u001b[0m\u001b[0;34m,\u001b[0m\u001b[0mReportName\u001b[0m\u001b[0;34m)\u001b[0m\u001b[0;34m\u001b[0m\u001b[0;34m\u001b[0m\u001b[0m\n\u001b[0;32m----> 7\u001b[0;31m     \u001b[0;32mfor\u001b[0m \u001b[0mresult0\u001b[0m\u001b[0;34m,\u001b[0m \u001b[0mresult1\u001b[0m \u001b[0;32min\u001b[0m \u001b[0mReportResult\u001b[0m\u001b[0;34m.\u001b[0m\u001b[0mitems\u001b[0m\u001b[0;34m(\u001b[0m\u001b[0;34m)\u001b[0m\u001b[0;34m:\u001b[0m\u001b[0;34m\u001b[0m\u001b[0;34m\u001b[0m\u001b[0m\n\u001b[0m\u001b[1;32m      8\u001b[0m         \u001b[0mprint\u001b[0m\u001b[0;34m(\u001b[0m\u001b[0;34m'   {0} : \\t{1}'\u001b[0m\u001b[0;34m.\u001b[0m\u001b[0mformat\u001b[0m\u001b[0;34m(\u001b[0m\u001b[0mresult0\u001b[0m\u001b[0;34m,\u001b[0m \u001b[0mresult1\u001b[0m\u001b[0;34m)\u001b[0m\u001b[0;34m)\u001b[0m\u001b[0;34m\u001b[0m\u001b[0;34m\u001b[0m\u001b[0m\n",
            "\u001b[0;31mAttributeError\u001b[0m: 'float' object has no attribute 'items'"
          ]
        }
      ]
    },
    {
      "cell_type": "code",
      "metadata": {
        "id": "25gMxC6urzWz",
        "colab_type": "code",
        "colab": {}
      },
      "source": [
        "# Кривые обучения и валидации\n",
        "def plot_learning_curve(estimator, title, X, y, ylim=None, cv=None,\n",
        "                        n_jobs=None, train_sizes=np.linspace(.1, 1.0, 5)):\n",
        "    plt.figure()\n",
        "    plt.title(title)\n",
        "    if ylim is not None:\n",
        "        plt.ylim(*ylim)\n",
        "    plt.xlabel(\"Training examples\")\n",
        "    plt.ylabel(\"Score\")\n",
        "    train_sizes, train_scores, test_scores = learning_curve(\n",
        "        estimator, X, y, cv=cv, n_jobs=n_jobs, train_sizes=train_sizes)\n",
        "    train_scores_mean = np.mean(train_scores, axis=1)\n",
        "    train_scores_std = np.std(train_scores, axis=1)\n",
        "    test_scores_mean = np.mean(test_scores, axis=1)\n",
        "    test_scores_std = np.std(test_scores, axis=1)\n",
        "    plt.grid()\n",
        "\n",
        "    plt.fill_between(train_sizes, train_scores_mean - train_scores_std,\n",
        "                     train_scores_mean + train_scores_std, alpha=0.1,\n",
        "                     color=\"r\")\n",
        "    plt.fill_between(train_sizes, test_scores_mean - test_scores_std,\n",
        "                     test_scores_mean + test_scores_std, alpha=0.1, color=\"g\")\n",
        "    plt.plot(train_sizes, train_scores_mean, 'o-', color=\"r\",\n",
        "             label=\"Training score\")\n",
        "    plt.plot(train_sizes, test_scores_mean, 'o-', color=\"g\",\n",
        "             label=\"Cross-validation score\")\n",
        "\n",
        "    plt.legend(loc=\"best\")\n",
        "    return plt"
      ],
      "execution_count": 0,
      "outputs": []
    },
    {
      "cell_type": "code",
      "metadata": {
        "id": "bp0Qp8A1scP5",
        "colab_type": "code",
        "outputId": "df3ecbe4-5347-47bd-8f1e-dcca5373ea1d",
        "colab": {
          "base_uri": "https://localhost:8080/",
          "height": 318
        }
      },
      "source": [
        "plot_learning_curve(KNeighborsClassifier(n_neighbors=6), 'n_neighbors={}'.format(6), \n",
        "                    trainX, trainY, cv=20)"
      ],
      "execution_count": 0,
      "outputs": [
        {
          "output_type": "execute_result",
          "data": {
            "text/plain": [
              "<module 'matplotlib.pyplot' from '/usr/local/lib/python3.6/dist-packages/matplotlib/pyplot.py'>"
            ]
          },
          "metadata": {
            "tags": []
          },
          "execution_count": 40
        },
        {
          "output_type": "display_data",
          "data": {
            "image/png": "[encoded data removed]",
            "text/plain": [
              "<Figure size 432x288 with 1 Axes>"
            ]
          },
          "metadata": {
            "tags": []
          }
        }
      ]
    },
    {
      "cell_type": "code",
      "metadata": {
        "id": "wMu6VPBLssW6",
        "colab_type": "code",
        "colab": {}
      },
      "source": [
        "def plot_validation_curve(estimator, title, X, y, \n",
        "                          param_name, param_range, cv, \n",
        "                          scoring=\"accuracy\"):\n",
        "                                                   \n",
        "    train_scores, test_scores = validation_curve(\n",
        "        estimator, X, y, param_name=param_name, param_range=param_range,\n",
        "        cv=cv, scoring=scoring, n_jobs=1)\n",
        "    train_scores_mean = np.mean(train_scores, axis=1)\n",
        "    train_scores_std = np.std(train_scores, axis=1)\n",
        "    test_scores_mean = np.mean(test_scores, axis=1)\n",
        "    test_scores_std = np.std(test_scores, axis=1)\n",
        "\n",
        "    plt.title(title)\n",
        "    plt.xlabel(param_name)\n",
        "    plt.ylabel(\"Score\")\n",
        "    plt.ylim(0.0, 1.1)\n",
        "    lw = 2\n",
        "    plt.plot(param_range, train_scores_mean, label=\"Training score\",\n",
        "                 color=\"darkorange\", lw=lw)\n",
        "    plt.fill_between(param_range, train_scores_mean - train_scores_std,\n",
        "                     train_scores_mean + train_scores_std, alpha=0.2,\n",
        "                     color=\"darkorange\", lw=lw)\n",
        "    plt.plot(param_range, test_scores_mean, label=\"Cross-validation score\",\n",
        "                 color=\"navy\", lw=lw)\n",
        "    plt.fill_between(param_range, test_scores_mean - test_scores_std,\n",
        "                     test_scores_mean + test_scores_std, alpha=0.2,\n",
        "                     color=\"navy\", lw=lw)\n",
        "    plt.legend(loc=\"best\")\n",
        "    return plt"
      ],
      "execution_count": 0,
      "outputs": []
    },
    {
      "cell_type": "code",
      "metadata": {
        "id": "cMSNa-5uszZy",
        "colab_type": "code",
        "outputId": "948fc2a7-884b-4467-feee-dfc6f0728919",
        "colab": {
          "base_uri": "https://localhost:8080/",
          "height": 318
        }
      },
      "source": [
        "plot_validation_curve(KNeighborsClassifier(), 'knn', \n",
        "                      trainX, trainY, \n",
        "                      param_name='n_neighbors', param_range=NeighborsArr, \n",
        "                      cv=20, scoring=\"accuracy\")"
      ],
      "execution_count": 0,
      "outputs": [
        {
          "output_type": "execute_result",
          "data": {
            "text/plain": [
              "<module 'matplotlib.pyplot' from '/usr/local/lib/python3.6/dist-packages/matplotlib/pyplot.py'>"
            ]
          },
          "metadata": {
            "tags": []
          },
          "execution_count": 42
        },
        {
          "output_type": "display_data",
          "data": {
            "image/png": "[encoded data removed]",
            "text/plain": [
              "<Figure size 432x288 with 1 Axes>"
            ]
          },
          "metadata": {
            "tags": []
          }
        }
      ]
    }
  ]
}