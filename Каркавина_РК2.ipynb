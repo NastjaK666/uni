{
  "nbformat": 4,
  "nbformat_minor": 0,
  "metadata": {
    "kernelspec": {
      "display_name": "Python 3",
      "language": "python",
      "name": "python3"
    },
    "language_info": {
      "codemirror_mode": {
        "name": "ipython",
        "version": 3
      },
      "file_extension": ".py",
      "mimetype": "text/x-python",
      "name": "python",
      "nbconvert_exporter": "python",
      "pygments_lexer": "ipython3",
      "version": "3.7.1"
    },
    "colab": {
      "name": "Каркавина_РК2.ipynb",
      "provenance": []
    }
  },
  "cells": [
    {
      "cell_type": "markdown",
      "metadata": {
        "id": "RePjXZg0RfHs",
        "colab_type": "text"
      },
      "source": [
        "Рубежный контроль №2 ТМО\n",
        "\n",
        "Каркавина А.А. РТ5-71\n",
        "\n",
        "вариант 1\n",
        "Необходимо решить задачу классификации текстов на основе любого выбранного Вами датасета. Классификация может быть бинарной или многоклассовой. Целевой признак из выбранного Вами датасета может иметь любой физический смысл, примером является задача анализа тональности текста.\n",
        "    Необходимо сформировать признаки на основе CountVectorizer или TfidfVectorizer.\n",
        "    В качестве классификаторов необходимо использовать один из классификаторов, не относящихся к наивным Байесовским методам (например, LogisticRegression), а также Multinomial Naive Bayes (MNB), Complement Naive Bayes (CNB), Bernoulli Naive Bayes.\n",
        "    Для каждого метода необходимо оценить качество классификации с помощью хотя бы одной метрики качества классификации (например, Accuracy).\n",
        "    Сделате выводы о том, какой классификатор осуществляет более качественную классификацию на Вашем наборе данных.\n",
        "\n"
      ]
    },
    {
      "cell_type": "code",
      "metadata": {
        "id": "G7ON8xXbRfHw",
        "colab_type": "code",
        "colab": {}
      },
      "source": [
        "import pandas as pd\n",
        "from sklearn.model_selection import train_test_split\n",
        "from sklearn.naive_bayes import MultinomialNB, ComplementNB, BernoulliNB\n",
        "from sklearn.neighbors import KNeighborsClassifier\n",
        "from sklearn.pipeline import Pipeline\n",
        "from sklearn.feature_extraction.text import CountVectorizer, TfidfVectorizer\n",
        "from sklearn.metrics import accuracy_score, precision_score, recall_score, f1_score"
      ],
      "execution_count": 0,
      "outputs": []
    },
    {
      "cell_type": "code",
      "metadata": {
        "id": "mIlC1Y4hRfH0",
        "colab_type": "code",
        "outputId": "a19b9b5f-3bed-482d-875b-fa903cc34f9e",
        "colab": {
          "base_uri": "https://localhost:8080/",
          "height": 204
        }
      },
      "source": [
        "data = pd.read_csv('https://raw.githubusercontent.com/NastjaK666/ML-2019/master/ML-RK2v1/Youtube04.csv')\n",
        "data.head()"
      ],
      "execution_count": 0,
      "outputs": [
        {
          "output_type": "execute_result",
          "data": {
            "text/html": [
              "<div>\n",
              "<style scoped>\n",
              "    .dataframe tbody tr th:only-of-type {\n",
              "        vertical-align: middle;\n",
              "    }\n",
              "\n",
              "    .dataframe tbody tr th {\n",
              "        vertical-align: top;\n",
              "    }\n",
              "\n",
              "    .dataframe thead th {\n",
              "        text-align: right;\n",
              "    }\n",
              "</style>\n",
              "<table border=\"1\" class=\"dataframe\">\n",
              "  <thead>\n",
              "    <tr style=\"text-align: right;\">\n",
              "      <th></th>\n",
              "      <th>COMMENT_ID</th>\n",
              "      <th>AUTHOR</th>\n",
              "      <th>DATE</th>\n",
              "      <th>CONTENT</th>\n",
              "      <th>CLASS</th>\n",
              "    </tr>\n",
              "  </thead>\n",
              "  <tbody>\n",
              "    <tr>\n",
              "      <th>0</th>\n",
              "      <td>z12rwfnyyrbsefonb232i5ehdxzkjzjs2</td>\n",
              "      <td>Lisa Wellas</td>\n",
              "      <td>NaN</td>\n",
              "      <td>+447935454150 lovely girl talk to me xxx﻿</td>\n",
              "      <td>1</td>\n",
              "    </tr>\n",
              "    <tr>\n",
              "      <th>1</th>\n",
              "      <td>z130wpnwwnyuetxcn23xf5k5ynmkdpjrj04</td>\n",
              "      <td>jason graham</td>\n",
              "      <td>2015-05-29T02:26:10.652000</td>\n",
              "      <td>I always end up coming back to this song&lt;br /&gt;﻿</td>\n",
              "      <td>0</td>\n",
              "    </tr>\n",
              "    <tr>\n",
              "      <th>2</th>\n",
              "      <td>z13vsfqirtavjvu0t22ezrgzyorwxhpf3</td>\n",
              "      <td>Ajkal Khan</td>\n",
              "      <td>NaN</td>\n",
              "      <td>my sister just received over 6,500 new &lt;a rel=...</td>\n",
              "      <td>1</td>\n",
              "    </tr>\n",
              "    <tr>\n",
              "      <th>3</th>\n",
              "      <td>z12wjzc4eprnvja4304cgbbizuved35wxcs</td>\n",
              "      <td>Dakota Taylor</td>\n",
              "      <td>2015-05-29T02:13:07.810000</td>\n",
              "      <td>Cool﻿</td>\n",
              "      <td>0</td>\n",
              "    </tr>\n",
              "    <tr>\n",
              "      <th>4</th>\n",
              "      <td>z13xjfr42z3uxdz2223gx5rrzs3dt5hna</td>\n",
              "      <td>Jihad Naser</td>\n",
              "      <td>NaN</td>\n",
              "      <td>Hello I&amp;#39;am from Palastine﻿</td>\n",
              "      <td>1</td>\n",
              "    </tr>\n",
              "  </tbody>\n",
              "</table>\n",
              "</div>"
            ],
            "text/plain": [
              "                            COMMENT_ID  ... CLASS\n",
              "0    z12rwfnyyrbsefonb232i5ehdxzkjzjs2  ...     1\n",
              "1  z130wpnwwnyuetxcn23xf5k5ynmkdpjrj04  ...     0\n",
              "2    z13vsfqirtavjvu0t22ezrgzyorwxhpf3  ...     1\n",
              "3  z12wjzc4eprnvja4304cgbbizuved35wxcs  ...     0\n",
              "4    z13xjfr42z3uxdz2223gx5rrzs3dt5hna  ...     1\n",
              "\n",
              "[5 rows x 5 columns]"
            ]
          },
          "metadata": {
            "tags": []
          },
          "execution_count": 8
        }
      ]
    },
    {
      "cell_type": "markdown",
      "metadata": {
        "id": "gYllwop9RfH8",
        "colab_type": "text"
      },
      "source": [
        "<pre style=\"font-family: 'Arial'\">    В датасете присутствует несколько полей, которые не потребуютсяю Оставим только поля CONTENT и CLASS.</pre>"
      ]
    },
    {
      "cell_type": "code",
      "metadata": {
        "id": "VjokOcsARfH9",
        "colab_type": "code",
        "colab": {}
      },
      "source": [
        "Messages = data['CONTENT']\n",
        "MsgClass = data['CLASS']"
      ],
      "execution_count": 0,
      "outputs": []
    },
    {
      "cell_type": "markdown",
      "metadata": {
        "id": "lNo6dZ4hRfIA",
        "colab_type": "text"
      },
      "source": [
        "<pre style=\"font-family: 'Arial'\">    Произведём разделение датасета на обучающую и тестовую выборки:</pre>"
      ]
    },
    {
      "cell_type": "code",
      "metadata": {
        "id": "2FyK_cQNRfIB",
        "colab_type": "code",
        "colab": {}
      },
      "source": [
        "TrainX,TestX,TrainY,TestY = train_test_split(Messages,MsgClass, test_size=0.3, random_state = 1)\n",
        "GlobalReport = []"
      ],
      "execution_count": 0,
      "outputs": []
    },
    {
      "cell_type": "markdown",
      "metadata": {
        "id": "Ak3NIShbRfID",
        "colab_type": "text"
      },
      "source": [
        "[link text](https://)<pre style=\"font-family: 'Arial'\">    Функция обучения и оценки модели с определённым методом преобразования данных</pre>"
      ]
    },
    {
      "cell_type": "code",
      "metadata": {
        "id": "pHLhpDjTRfIE",
        "colab_type": "code",
        "colab": {}
      },
      "source": [
        "def ModelPredictReport(Vectoriser, Classifier, ModelName, VectName):\n",
        "    Model = Pipeline(\n",
        "        [(\"vectorizer\", Vectoriser), \n",
        "         (\"classifier\", Classifier)])\n",
        "    Model.fit(TrainX,TrainY)\n",
        "    Prediction = Model.predict(TestX)\n",
        "    Report = [ModelName,VectName]\n",
        "    Report.append(accuracy_score(TestY,Prediction))\n",
        "    Report.append(recall_score(TestY,Prediction))\n",
        "    Report.append(f1_score(TestY,Prediction))\n",
        "    return Report"
      ],
      "execution_count": 0,
      "outputs": []
    },
    {
      "cell_type": "markdown",
      "metadata": {
        "id": "o7ieppuURfIJ",
        "colab_type": "text"
      },
      "source": [
        "<pre style=\"font-family: 'Arial'\">    Метод К ближайших соседей:</pre>"
      ]
    },
    {
      "cell_type": "code",
      "metadata": {
        "id": "yVvUBtWnRfIM",
        "colab_type": "code",
        "colab": {}
      },
      "source": [
        "GlobalReport.append(ModelPredictReport(CountVectorizer(),KNeighborsClassifier(),'KNN','CountVectorizer'))\n",
        "GlobalReport.append(ModelPredictReport(TfidfVectorizer(),KNeighborsClassifier(),'KNN','TfidfVectorizer'))"
      ],
      "execution_count": 0,
      "outputs": []
    },
    {
      "cell_type": "markdown",
      "metadata": {
        "id": "Po09ewy8RfIQ",
        "colab_type": "text"
      },
      "source": [
        "<pre style=\"font-family: 'Arial'\">    Метод MultinomialNB:</pre>"
      ]
    },
    {
      "cell_type": "code",
      "metadata": {
        "id": "gd4Xfo-8RfIR",
        "colab_type": "code",
        "colab": {}
      },
      "source": [
        "GlobalReport.append(ModelPredictReport(CountVectorizer(),MultinomialNB(),'MNB','CountVectorizer'))\n",
        "GlobalReport.append(ModelPredictReport(TfidfVectorizer(),MultinomialNB(),'MNB','TfidfVectorizer'))"
      ],
      "execution_count": 0,
      "outputs": []
    },
    {
      "cell_type": "markdown",
      "metadata": {
        "id": "ONd9H6qiRfIT",
        "colab_type": "text"
      },
      "source": [
        "<pre style=\"font-family: 'Arial'\">    Метод ComplementNB (CNB):</pre>"
      ]
    },
    {
      "cell_type": "code",
      "metadata": {
        "id": "sI2DGg8iRfIU",
        "colab_type": "code",
        "colab": {}
      },
      "source": [
        "GlobalReport.append(ModelPredictReport(CountVectorizer(),ComplementNB(),'CNB','CountVectorizer'))\n",
        "GlobalReport.append(ModelPredictReport(TfidfVectorizer(),ComplementNB(),'CNB','TfidfVectorizer'))"
      ],
      "execution_count": 0,
      "outputs": []
    },
    {
      "cell_type": "markdown",
      "metadata": {
        "id": "Vow46Q5ERfIX",
        "colab_type": "text"
      },
      "source": [
        "<pre style=\"font-family: 'Arial'\">    Метод BernoulliNB (BNB):</pre>"
      ]
    },
    {
      "cell_type": "code",
      "metadata": {
        "id": "XT_ik4KyRfIY",
        "colab_type": "code",
        "colab": {}
      },
      "source": [
        "GlobalReport.append(ModelPredictReport(CountVectorizer(),BernoulliNB(),'BNB','CountVectorizer'))\n",
        "GlobalReport.append(ModelPredictReport(TfidfVectorizer(),BernoulliNB(),'BNB','TfidfVectorizer'))"
      ],
      "execution_count": 0,
      "outputs": []
    },
    {
      "cell_type": "code",
      "metadata": {
        "id": "-gCyc3RmRfId",
        "colab_type": "code",
        "outputId": "46a55e6b-8d12-4b08-dc2c-48c60700ae8f",
        "colab": {
          "base_uri": "https://localhost:8080/",
          "height": 297
        }
      },
      "source": [
        "pd.DataFrame(GlobalReport, columns = ['Model','Vectorizer','Accuracy','Recall','F1'])"
      ],
      "execution_count": 0,
      "outputs": [
        {
          "output_type": "execute_result",
          "data": {
            "text/html": [
              "<div>\n",
              "<style scoped>\n",
              "    .dataframe tbody tr th:only-of-type {\n",
              "        vertical-align: middle;\n",
              "    }\n",
              "\n",
              "    .dataframe tbody tr th {\n",
              "        vertical-align: top;\n",
              "    }\n",
              "\n",
              "    .dataframe thead th {\n",
              "        text-align: right;\n",
              "    }\n",
              "</style>\n",
              "<table border=\"1\" class=\"dataframe\">\n",
              "  <thead>\n",
              "    <tr style=\"text-align: right;\">\n",
              "      <th></th>\n",
              "      <th>Model</th>\n",
              "      <th>Vectorizer</th>\n",
              "      <th>Accuracy</th>\n",
              "      <th>Recall</th>\n",
              "      <th>F1</th>\n",
              "    </tr>\n",
              "  </thead>\n",
              "  <tbody>\n",
              "    <tr>\n",
              "      <th>0</th>\n",
              "      <td>KNN</td>\n",
              "      <td>CountVectorizer</td>\n",
              "      <td>0.859259</td>\n",
              "      <td>0.724638</td>\n",
              "      <td>0.840336</td>\n",
              "    </tr>\n",
              "    <tr>\n",
              "      <th>1</th>\n",
              "      <td>KNN</td>\n",
              "      <td>TfidfVectorizer</td>\n",
              "      <td>0.585185</td>\n",
              "      <td>0.188406</td>\n",
              "      <td>0.317073</td>\n",
              "    </tr>\n",
              "    <tr>\n",
              "      <th>2</th>\n",
              "      <td>MNB</td>\n",
              "      <td>CountVectorizer</td>\n",
              "      <td>0.851852</td>\n",
              "      <td>0.942029</td>\n",
              "      <td>0.866667</td>\n",
              "    </tr>\n",
              "    <tr>\n",
              "      <th>3</th>\n",
              "      <td>MNB</td>\n",
              "      <td>TfidfVectorizer</td>\n",
              "      <td>0.829630</td>\n",
              "      <td>0.971014</td>\n",
              "      <td>0.853503</td>\n",
              "    </tr>\n",
              "    <tr>\n",
              "      <th>4</th>\n",
              "      <td>CNB</td>\n",
              "      <td>CountVectorizer</td>\n",
              "      <td>0.866667</td>\n",
              "      <td>0.927536</td>\n",
              "      <td>0.876712</td>\n",
              "    </tr>\n",
              "    <tr>\n",
              "      <th>5</th>\n",
              "      <td>CNB</td>\n",
              "      <td>TfidfVectorizer</td>\n",
              "      <td>0.851852</td>\n",
              "      <td>0.927536</td>\n",
              "      <td>0.864865</td>\n",
              "    </tr>\n",
              "    <tr>\n",
              "      <th>6</th>\n",
              "      <td>BNB</td>\n",
              "      <td>CountVectorizer</td>\n",
              "      <td>0.844444</td>\n",
              "      <td>0.710145</td>\n",
              "      <td>0.823529</td>\n",
              "    </tr>\n",
              "    <tr>\n",
              "      <th>7</th>\n",
              "      <td>BNB</td>\n",
              "      <td>TfidfVectorizer</td>\n",
              "      <td>0.844444</td>\n",
              "      <td>0.710145</td>\n",
              "      <td>0.823529</td>\n",
              "    </tr>\n",
              "  </tbody>\n",
              "</table>\n",
              "</div>"
            ],
            "text/plain": [
              "  Model       Vectorizer  Accuracy    Recall        F1\n",
              "0   KNN  CountVectorizer  0.859259  0.724638  0.840336\n",
              "1   KNN  TfidfVectorizer  0.585185  0.188406  0.317073\n",
              "2   MNB  CountVectorizer  0.851852  0.942029  0.866667\n",
              "3   MNB  TfidfVectorizer  0.829630  0.971014  0.853503\n",
              "4   CNB  CountVectorizer  0.866667  0.927536  0.876712\n",
              "5   CNB  TfidfVectorizer  0.851852  0.927536  0.864865\n",
              "6   BNB  CountVectorizer  0.844444  0.710145  0.823529\n",
              "7   BNB  TfidfVectorizer  0.844444  0.710145  0.823529"
            ]
          },
          "metadata": {
            "tags": []
          },
          "execution_count": 16
        }
      ]
    },
    {
      "cell_type": "markdown",
      "metadata": {
        "id": "g7nJsiVvRfIg",
        "colab_type": "text"
      },
      "source": [
        "<pre style=\"font-family: 'Arial'\">    Наиболее удачно показал себя метод ComplementNB (CNB) и методом преобразования данных CountVectorizer.</pre>"
      ]
    }
  ]
}